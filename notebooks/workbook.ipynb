{
 "cells": [
  {
   "cell_type": "markdown",
   "metadata": {},
   "source": [
    "# Apache Iceberg Workbook\n",
    "\n",
    "This notebook allows to work with Iceberg tables using PyIceberg lib. This workbook helps you to \n",
    "- [x] Connect with Polaris REST Catalog\n",
    "- [x] Create Iceberg Tables \n",
    "- [x] Query Tables\n",
    "- [ ] Schema Evolution\n",
    "- [ ] Partition Evolution\n"
   ]
  },
  {
   "cell_type": "markdown",
   "metadata": {},
   "source": [
    "## Imports\n"
   ]
  },
  {
   "cell_type": "code",
   "execution_count": 36,
   "metadata": {
    "ExecuteTime": {
     "end_time": "2025-02-18T16:13:45.794619Z",
     "start_time": "2025-02-18T16:13:45.504541Z"
    }
   },
   "outputs": [],
   "source": [
    "import os\n",
    "from pathlib import Path\n",
    "\n",
    "from pyiceberg.catalog.rest import RestCatalog\n",
    "from pyiceberg.exceptions import NamespaceAlreadyExistsError\n",
    "\n",
    "from pyiceberg.schema import Schema\n",
    "from pyiceberg.types import (\n",
    "    NestedField,\n",
    "    StringType,\n",
    "    IntegerType,\n",
    "    DoubleType,\n",
    "    TimestamptzType,\n",
    ")\n",
    "\n",
    "from pyiceberg.partitioning import (\n",
    "    PartitionSpec,\n",
    "    PartitionField,\n",
    ")\n",
    "from pyiceberg.transforms import (\n",
    "    DayTransform,\n",
    "    IdentityTransform,\n",
    "    VoidTransform,\n",
    "    HourTransform,\n",
    ")\n",
    "\n",
    "from pyiceberg.table.sorting import (\n",
    "    SortOrder,\n",
    "    SortField,\n",
    "    SortDirection,\n",
    "    NullOrder,\n",
    ")"
   ]
  },
  {
   "cell_type": "markdown",
   "metadata": {},
   "source": [
    "## PyIceberg Version"
   ]
  },
  {
   "cell_type": "code",
   "execution_count": 37,
   "metadata": {},
   "outputs": [
    {
     "name": "stdout",
     "output_type": "stream",
     "text": [
      "PyIceberg version: 0.8.1\n"
     ]
    }
   ],
   "source": [
    "import pyiceberg\n",
    "\n",
    "print(f\"PyIceberg version: {pyiceberg.__version__}\")"
   ]
  },
  {
   "cell_type": "markdown",
   "metadata": {},
   "source": [
    "## Retrieve Principal Credentials\n",
    "\n",
    "As part of the catalog setup script, the Principal(`super_user`) credentials are stored in `$PROJECT_HOME/work/principal.txt`, let us retrieve it for further operations.\n"
   ]
  },
  {
   "cell_type": "code",
   "execution_count": null,
   "metadata": {
    "ExecuteTime": {
     "end_time": "2025-02-18T16:13:50.482779Z",
     "start_time": "2025-02-18T16:13:50.479376Z"
    }
   },
   "outputs": [],
   "source": [
    "principal_cred_file = Path(os.getcwd()).parent.joinpath(\"work\", \"principal.txt\")\n",
    "with open(principal_cred_file, \"r\") as file:\n",
    "    realm, client_id, client_secret = file.readline().split(\",\")"
   ]
  },
  {
   "cell_type": "markdown",
   "metadata": {},
   "source": [
    "## Define Variables\n",
    "\n",
    "Let us define some variables for us across the notebook\n"
   ]
  },
  {
   "cell_type": "code",
   "execution_count": 41,
   "metadata": {
    "ExecuteTime": {
     "end_time": "2025-02-18T16:13:52.166753Z",
     "start_time": "2025-02-18T16:13:52.164758Z"
    }
   },
   "outputs": [],
   "source": [
    "POLARIS_BASE_URI=\"http://localhost:18181\"\n",
    "# IMPORTANT!!! /api/catalog or get the prefix from your OpenCatalog instance\n",
    "CATALOG_URI = f\"{POLARIS_BASE_URI}/api/catalog\"\n",
    "OAUTH2_SERVER_URI= f\"{POLARIS_BASE_URI}/api/catalog/v1/oauth/tokens\"\n",
    "catalog_name = \"balloon-game\"\n",
    "# database\n",
    "namespace = \"balloon_pops\""
   ]
  },
  {
   "cell_type": "markdown",
   "metadata": {},
   "source": [
    "## Working with Catalog\n",
    "\n",
    "Let us retrieve the catalog `polardb` that we created earlier using the `catalog_setup.yml` script.\n"
   ]
  },
  {
   "cell_type": "code",
   "execution_count": 42,
   "metadata": {
    "ExecuteTime": {
     "end_time": "2025-02-18T16:13:54.020484Z",
     "start_time": "2025-02-18T16:13:53.974146Z"
    }
   },
   "outputs": [],
   "source": [
    "catalog = RestCatalog(\n",
    "    name=catalog_name,\n",
    "    **{\n",
    "        \"uri\": CATALOG_URI,\n",
    "        \"credential\": f\"{client_id}:{client_secret}\",\n",
    "        \"header.content-type\": \"application/vnd.api+json\",\n",
    "        \"header.X-Iceberg-Access-Delegation\": \"vended-credentials\",\n",
    "        \"header.Polaris-Realm\": realm,\n",
    "        \"oauth2-server-uri\": OAUTH2_SERVER_URI,\n",
    "        \"warehouse\": catalog_name,\n",
    "        \"scope\": \"PRINCIPAL_ROLE:ALL\",\n",
    "    },\n",
    ")"
   ]
  },
  {
   "cell_type": "markdown",
   "metadata": {},
   "source": [
    "### Create Database(Namespace)\n",
    "\n",
    "Create a new database named `balllon_pops`\n"
   ]
  },
  {
   "cell_type": "code",
   "execution_count": 43,
   "metadata": {
    "ExecuteTime": {
     "end_time": "2025-02-17T13:20:39.579345Z",
     "start_time": "2025-02-17T13:20:39.266492Z"
    }
   },
   "outputs": [
    {
     "name": "stdout",
     "output_type": "stream",
     "text": [
      "Namespace 'balloon_pops' already exists\n"
     ]
    }
   ],
   "source": [
    "try:\n",
    "    catalog.create_namespace(namespace)\n",
    "except NamespaceAlreadyExistsError:\n",
    "    print(f\"Namespace '{namespace}' already exists\")\n",
    "except Exception as e:\n",
    "    print(e)"
   ]
  },
  {
   "cell_type": "markdown",
   "metadata": {},
   "source": [
    "## Create Tables\n"
   ]
  },
  {
   "cell_type": "markdown",
   "metadata": {},
   "source": [
    "#### Leaderboard\n"
   ]
  },
  {
   "cell_type": "code",
   "execution_count": null,
   "metadata": {},
   "outputs": [],
   "source": [
    "## Create leaderbord Table\n",
    "leaderboard_table_id = f\"{namespace}.leaderboard\"\n",
    "# since its demo, dropping and creating it for sanity\n",
    "# catalog.drop_table(leaderboard_table_id)\n",
    "## Schema\n",
    "leaderboard_schema = Schema(\n",
    "    NestedField(\n",
    "        field_id=1,\n",
    "        name=\"player\",\n",
    "        type=StringType(),\n",
    "        required=True,\n",
    "    ),\n",
    "    NestedField(\n",
    "        field_id=2,\n",
    "        name=\"total_score\",\n",
    "        type=IntegerType(),\n",
    "        required=True,\n",
    "    ),\n",
    "    NestedField(\n",
    "        field_id=3,\n",
    "        name=\"bonus_hits\",\n",
    "        type=IntegerType(),\n",
    "        required=True,\n",
    "    ),\n",
    "    NestedField(\n",
    "        field_id=4,\n",
    "        name=\"event_ts\",\n",
    "        type=TimestamptzType(),\n",
    "        required=True,\n",
    "    ),\n",
    ")\n",
    "## Partition Specification\n",
    "partition_fields = [\n",
    "    PartitionField(\n",
    "        source_id=4,\n",
    "        field_id=1001,\n",
    "        transform=DayTransform(),\n",
    "        name=\"datetime_day\",\n",
    "    ),\n",
    "    PartitionField(\n",
    "        source_id=1,\n",
    "        field_id=1002,\n",
    "        transform=IdentityTransform(),\n",
    "        name=\"by_player\",\n",
    "    ),\n",
    "]\n",
    "leaderboard_partition_spec = PartitionSpec(*partition_fields)\n",
    "## Sort Specification\n",
    "order_fields = [\n",
    "    SortField(\n",
    "        source_id=2,\n",
    "        direction=SortDirection.DESC,\n",
    "        null_order=NullOrder.NULLS_LAST,\n",
    "        transform=VoidTransform(),\n",
    "    ),\n",
    "    SortField(\n",
    "        source_id=3,\n",
    "        direction=SortDirection.DESC,\n",
    "        null_order=NullOrder.NULLS_LAST,\n",
    "        transform=VoidTransform(),\n",
    "    ),\n",
    "]\n",
    "sort_order = SortOrder(*order_fields)\n",
    "\n",
    "\n",
    "leaderboard_table = catalog.create_table(\n",
    "    identifier=leaderboard_table_id,\n",
    "    schema=leaderboard_schema,\n",
    "    partition_spec=leaderboard_partition_spec,\n",
    "    sort_order=sort_order,\n",
    "    properties={\n",
    "        \"format-version\": \"2\",  # Required for merge-on-read\n",
    "        \"write.delete.mode\": \"merge-on-read\",  # required for upserts\n",
    "        \"write.update.mode\": \"merge-on-read\",  # required for upserts\n",
    "        \"write.merge.mode\": \"merge-on-read\",  # required for upserts\n",
    "    },\n",
    ")"
   ]
  },
  {
   "cell_type": "markdown",
   "metadata": {},
   "source": [
    "#### Balloon Color Stats"
   ]
  },
  {
   "cell_type": "code",
   "execution_count": null,
   "metadata": {},
   "outputs": [],
   "source": [
    "## Create balloon_color_stats table\n",
    "balloon_color_stats_table_id = f\"{namespace}.balloon_color_stats\"\n",
    "# since its demo, dropping and creating it for sanity\n",
    "# catalog.drop_table(balloon_color_stats_table_id)\n",
    "## Schema\n",
    "balloon_color_stats_schema = Schema(\n",
    "    NestedField(\n",
    "        field_id=1,\n",
    "        name=\"player\",\n",
    "        type=StringType(),\n",
    "        required=True,\n",
    "    ),\n",
    "    NestedField(\n",
    "        field_id=2,\n",
    "        name=\"balloon_color\",\n",
    "        type=StringType(),\n",
    "        required=True,\n",
    "    ),\n",
    "    NestedField(\n",
    "        field_id=3,\n",
    "        name=\"points_by_color\",\n",
    "        type=IntegerType(),\n",
    "        required=True,\n",
    "    ),\n",
    "    NestedField(\n",
    "        field_id=4,\n",
    "        name=\"bonus_hits\",\n",
    "        type=IntegerType(),\n",
    "        required=True,\n",
    "    ),\n",
    "    NestedField(\n",
    "        field_id=5,\n",
    "        name=\"event_ts\",\n",
    "        type=TimestamptzType(),\n",
    "        required=True,\n",
    "    ),\n",
    ")\n",
    "## Partition Specification\n",
    "partition_fields = [\n",
    "    PartitionField(\n",
    "        source_id=5,\n",
    "        field_id=1001,\n",
    "        transform=DayTransform(),\n",
    "        name=\"datetime_day\",\n",
    "    ),\n",
    "    PartitionField(\n",
    "        source_id=2,\n",
    "        field_id=1002,\n",
    "        transform=IdentityTransform(),\n",
    "        name=\"by_balloon_color\",\n",
    "    ),\n",
    "    PartitionField(\n",
    "        source_id=1,\n",
    "        field_id=1003,\n",
    "        transform=IdentityTransform(),\n",
    "        name=\"by_player\",\n",
    "    ),\n",
    "]\n",
    "balloon_color_stats_partition_spec = PartitionSpec(*partition_fields)\n",
    "## Sort Specification\n",
    "order_fields = [\n",
    "    SortField(\n",
    "        source_id=3,\n",
    "        direction=SortDirection.DESC,\n",
    "        null_order=NullOrder.NULLS_LAST,\n",
    "        transform=VoidTransform(),\n",
    "    ),\n",
    "    SortField(\n",
    "        source_id=4,\n",
    "        direction=SortDirection.DESC,\n",
    "        null_order=NullOrder.NULLS_LAST,\n",
    "        transform=VoidTransform(),\n",
    "    ),\n",
    "]\n",
    "sort_order = SortOrder(*order_fields)\n",
    "## Create Table\n",
    "balloon_color_stats_table = catalog.create_table(\n",
    "    identifier=balloon_color_stats_table_id,\n",
    "    schema=balloon_color_stats_schema,\n",
    "    partition_spec=balloon_color_stats_partition_spec,\n",
    "    sort_order=sort_order,\n",
    "    properties={\n",
    "        \"format-version\": \"2\",  # Required for merge-on-read\n",
    "        \"write.delete.mode\": \"merge-on-read\",  # required for upserts\n",
    "        \"write.update.mode\": \"merge-on-read\",  # required for upserts\n",
    "        \"write.merge.mode\": \"merge-on-read\",  # required for upserts\n",
    "    },\n",
    ")"
   ]
  },
  {
   "cell_type": "markdown",
   "metadata": {},
   "source": [
    "### Timseries"
   ]
  },
  {
   "cell_type": "markdown",
   "metadata": {},
   "source": [
    "#### Realtime Scores"
   ]
  },
  {
   "cell_type": "code",
   "execution_count": null,
   "metadata": {},
   "outputs": [],
   "source": [
    "## Create realtime_scores table\n",
    "realtime_scores_tbl_id = f\"{namespace}.realtime_scores\"\n",
    "## Schema\n",
    "realtime_scores_schema = Schema(\n",
    "    NestedField(\n",
    "        field_id=1,\n",
    "        name=\"player\",\n",
    "        type=StringType(),\n",
    "        required=True,\n",
    "    ),\n",
    "    NestedField(\n",
    "        field_id=2,\n",
    "        name=\"total_score\",\n",
    "        type=IntegerType(),\n",
    "        required=True,\n",
    "    ),\n",
    "    NestedField(\n",
    "        field_id=3,\n",
    "        name=\"window_start\",\n",
    "        type=TimestamptzType(),\n",
    "        required=True,\n",
    "    ),\n",
    "    NestedField(\n",
    "        field_id=4,\n",
    "        name=\"window_end\",\n",
    "        type=TimestamptzType(),\n",
    "        required=True,\n",
    "    ),\n",
    ")\n",
    "\n",
    "catalog.drop_table(realtime_scores_tbl_id)\n",
    "realtime_scores_table = catalog.create_table(\n",
    "    identifier=realtime_scores_tbl_id,\n",
    "    schema=realtime_scores_schema,\n",
    "    partition_spec=PartitionSpec(\n",
    "        PartitionField(\n",
    "            source_id=3,\n",
    "            field_id=1001,\n",
    "            name=\"by_window_start_hour\",\n",
    "            transform=HourTransform(),\n",
    "        ),\n",
    "    ),\n",
    "    properties={\n",
    "        \"format-version\": \"2\",\n",
    "    },\n",
    ")"
   ]
  },
  {
   "cell_type": "markdown",
   "metadata": {},
   "source": [
    "#### Balloon Colored Pops"
   ]
  },
  {
   "cell_type": "code",
   "execution_count": null,
   "metadata": {},
   "outputs": [],
   "source": [
    "## Create balloon_colored_pops table\n",
    "# catalog.drop_table(balloon_colored_pops_tbl_id)\n",
    "balloon_colored_pops_tbl_id = f\"{namespace}.balloon_colored_pops\"\n",
    "## Schema\n",
    "balloon_colored_pops_schema = Schema(\n",
    "    NestedField(\n",
    "        field_id=1,\n",
    "        name=\"player\",\n",
    "        type=StringType(),\n",
    "        required=True,\n",
    "    ),\n",
    "    NestedField(\n",
    "        field_id=2,\n",
    "        name=\"balloon_color\",\n",
    "        type=StringType(),\n",
    "        required=True,\n",
    "    ),\n",
    "    NestedField(\n",
    "        field_id=3,\n",
    "        name=\"balloon_pops\",\n",
    "        type=IntegerType(),\n",
    "        required=True,\n",
    "    ),\n",
    "    NestedField(\n",
    "        field_id=4,\n",
    "        name=\"points_by_color\",\n",
    "        type=IntegerType(),\n",
    "        required=True,\n",
    "    ),\n",
    "    NestedField(\n",
    "        field_id=5,\n",
    "        name=\"bonus_hits\",\n",
    "        type=IntegerType(),\n",
    "        required=True,\n",
    "    ),\n",
    "    NestedField(\n",
    "        field_id=6,\n",
    "        name=\"window_start\",\n",
    "        type=TimestamptzType(),\n",
    "        required=True,\n",
    "    ),\n",
    "    NestedField(\n",
    "        field_id=7,\n",
    "        name=\"window_end\",\n",
    "        type=TimestamptzType(),\n",
    "        required=True,\n",
    "    ),\n",
    ")\n",
    "\n",
    "partition_fields = [\n",
    "    PartitionField(\n",
    "        source_id=6,  # window_start\n",
    "        field_id=1001,\n",
    "        name=\"by_window_start_hour\",\n",
    "        transform=HourTransform(),\n",
    "    ),\n",
    "    PartitionField(\n",
    "        source_id=1,  # player field\n",
    "        field_id=1002,\n",
    "        name=\"by_player\",\n",
    "        transform=IdentityTransform(),\n",
    "    ),\n",
    "]\n",
    "\n",
    "balloon_colored_pops_table = catalog.create_table(\n",
    "    identifier=balloon_colored_pops_tbl_id,\n",
    "    schema=balloon_colored_pops_schema,\n",
    "    partition_spec=PartitionSpec(*partition_fields),\n",
    "    sort_order=SortOrder(\n",
    "        SortField(\n",
    "            source_id=2,  # balloon_color field\n",
    "            transform=IdentityTransform(),\n",
    "            direction=SortDirection.ASC,\n",
    "            null_order=NullOrder.NULLS_LAST,\n",
    "        ),\n",
    "    ),\n",
    "    properties={\n",
    "        \"format-version\": \"2\",\n",
    "    },\n",
    ")"
   ]
  },
  {
   "cell_type": "markdown",
   "metadata": {},
   "source": [
    "#### Color Performance Trends"
   ]
  },
  {
   "cell_type": "code",
   "execution_count": null,
   "metadata": {},
   "outputs": [],
   "source": [
    "## Create color_performance_trends table\n",
    "color_performance_trends_pops_tbl_id = f\"{namespace}.color_performance_trends\"\n",
    "## Schema\n",
    "color_performance_trends_pops_schema = Schema(\n",
    "    NestedField(\n",
    "        field_id=1,\n",
    "        name=\"balloon_color\",\n",
    "        type=StringType(),\n",
    "        required=True,\n",
    "    ),\n",
    "    NestedField(\n",
    "        field_id=2,\n",
    "        name=\"avg_score_per_pop\",\n",
    "        type=DoubleType(),\n",
    "        required=True,\n",
    "    ),\n",
    "    NestedField(\n",
    "        field_id=3,\n",
    "        name=\"total_pops\",\n",
    "        type=IntegerType(),\n",
    "        required=True,\n",
    "    ),\n",
    "    NestedField(\n",
    "        field_id=4,\n",
    "        name=\"window_start\",\n",
    "        type=TimestamptzType(),\n",
    "        required=True,\n",
    "    ),\n",
    "    NestedField(\n",
    "        field_id=5,\n",
    "        name=\"window_end\",\n",
    "        type=TimestamptzType(),\n",
    "        required=True,\n",
    "    ),\n",
    ")\n",
    "\n",
    "partition_fields = [\n",
    "    PartitionField(\n",
    "        source_id=4,  # window_start\n",
    "        field_id=1001,\n",
    "        name=\"by_window_start_hour\",\n",
    "        transform=HourTransform(),\n",
    "    ),\n",
    "    PartitionField(\n",
    "        source_id=1,  # balloon_color field\n",
    "        field_id=1002,\n",
    "        name=\"by_balloon_color\",\n",
    "        transform=IdentityTransform(),\n",
    "    ),\n",
    "]\n",
    "# catalog.drop_table(color_performance_trends_pops_tbl_id)\n",
    "color_performance_trends_pops_table = catalog.create_table(\n",
    "    identifier=color_performance_trends_pops_tbl_id,\n",
    "    schema=color_performance_trends_pops_schema,\n",
    "    partition_spec=PartitionSpec(*partition_fields),\n",
    "    sort_order=SortOrder(\n",
    "        SortField(\n",
    "            source_id=1,  # balloon_color field\n",
    "            transform=IdentityTransform(),\n",
    "            direction=SortDirection.ASC,\n",
    "            null_order=NullOrder.NULLS_LAST,\n",
    "        ),\n",
    "    ),\n",
    "    properties={\n",
    "        \"format-version\": \"2\",\n",
    "    },\n",
    ")"
   ]
  },
  {
   "cell_type": "markdown",
   "metadata": {},
   "source": [
    "### Query Tables\n"
   ]
  },
  {
   "cell_type": "markdown",
   "metadata": {},
   "source": [
    "#### `leaderboard` Table\n"
   ]
  },
  {
   "cell_type": "code",
   "execution_count": 26,
   "metadata": {
    "ExecuteTime": {
     "end_time": "2025-02-18T16:14:03.979952Z",
     "start_time": "2025-02-18T16:14:03.724228Z"
    }
   },
   "outputs": [
    {
     "name": "stdout",
     "output_type": "stream",
     "text": [
      "leaderboard(\n",
      "  1: player: required string,\n",
      "  2: total_score: required int,\n",
      "  3: bonus_hits: required int,\n",
      "  4: event_ts: required timestamptz\n",
      "),\n",
      "partition by: [datetime_day, by_player],\n",
      "sort order: [void(2) DESC NULLS LAST, void(3) DESC NULLS LAST],\n",
      "snapshot: null\n"
     ]
    }
   ],
   "source": [
    "try:\n",
    "    table = catalog.load_table(f\"{namespace}.leaderboard\")\n",
    "    print(table)\n",
    "except Exception as e:\n",
    "    print(e)"
   ]
  },
  {
   "cell_type": "code",
   "execution_count": null,
   "metadata": {
    "ExecuteTime": {
     "end_time": "2025-02-18T16:14:10.913488Z",
     "start_time": "2025-02-18T16:14:10.872976Z"
    }
   },
   "outputs": [],
   "source": [
    "df = table.scan().to_pandas()\n",
    "df.head()"
   ]
  },
  {
   "cell_type": "markdown",
   "metadata": {},
   "source": [
    "#### `balloon_color_stats` table\n"
   ]
  },
  {
   "cell_type": "code",
   "execution_count": 35,
   "metadata": {},
   "outputs": [
    {
     "name": "stdout",
     "output_type": "stream",
     "text": [
      "balloon_color_stats(\n",
      "  1: player: required string,\n",
      "  2: balloon_color: required string,\n",
      "  3: points_by_color: required int,\n",
      "  4: bonus_hits: required int,\n",
      "  5: event_ts: required timestamptz\n",
      "),\n",
      "partition by: [datetime_day, by_balloon_color, by_player],\n",
      "sort order: [void(3) DESC NULLS LAST, void(4) DESC NULLS LAST],\n",
      "snapshot: null\n"
     ]
    }
   ],
   "source": [
    "try:\n",
    "    tbl_balloon_color_stats = catalog.load_table(f\"{namespace}.balloon_color_stats\")\n",
    "    print(tbl_balloon_color_stats)\n",
    "except Exception as e:\n",
    "    print(e)"
   ]
  },
  {
   "cell_type": "code",
   "execution_count": null,
   "metadata": {},
   "outputs": [],
   "source": [
    "_balloon_color_stats_df = tbl_balloon_color_stats.scan().to_pandas()\n",
    "print(_balloon_color_stats_df.head())"
   ]
  },
  {
   "cell_type": "markdown",
   "metadata": {},
   "source": [
    "### Time Series"
   ]
  },
  {
   "cell_type": "markdown",
   "metadata": {},
   "source": [
    "#### `realtime_scores` table\n"
   ]
  },
  {
   "cell_type": "code",
   "execution_count": 24,
   "metadata": {},
   "outputs": [
    {
     "name": "stdout",
     "output_type": "stream",
     "text": [
      "realtime_scores(\n",
      "  1: player: required string,\n",
      "  2: total_score: required int,\n",
      "  3: window_start: required timestamptz,\n",
      "  4: window_end: required timestamptz\n",
      "),\n",
      "partition by: [by_window],\n",
      "sort order: [],\n",
      "snapshot: null\n"
     ]
    }
   ],
   "source": [
    "try:\n",
    "    tbl_realtime_scores = catalog.load_table(f\"{namespace}.realtime_scores\")\n",
    "    print(tbl_realtime_scores)\n",
    "except Exception as e:\n",
    "    print(e)"
   ]
  },
  {
   "cell_type": "code",
   "execution_count": null,
   "metadata": {},
   "outputs": [],
   "source": [
    "_realtime_scores_df = tbl_realtime_scores.scan().to_pandas()\n",
    "print(_realtime_scores_df.head())"
   ]
  },
  {
   "cell_type": "markdown",
   "metadata": {},
   "source": [
    "#### `balloon_colored_pops` table\n"
   ]
  },
  {
   "cell_type": "code",
   "execution_count": 31,
   "metadata": {},
   "outputs": [
    {
     "name": "stdout",
     "output_type": "stream",
     "text": [
      "balloon_colored_pops(\n",
      "  1: player: required string,\n",
      "  2: balloon_color: required string,\n",
      "  3: balloon_pops: required int,\n",
      "  4: points_by_color: required int,\n",
      "  5: bonus_hits: required int,\n",
      "  6: window_start: required timestamptz,\n",
      "  7: window_end: required timestamptz\n",
      "),\n",
      "partition by: [by_window_start_hour, by_player],\n",
      "sort order: [2 ASC NULLS LAST],\n",
      "snapshot: null\n"
     ]
    }
   ],
   "source": [
    "try:\n",
    "    tbl_balloon_colored_pops = catalog.load_table(f\"{namespace}.balloon_colored_pops\")\n",
    "    print(tbl_balloon_colored_pops)\n",
    "except Exception as e:\n",
    "    print(e)"
   ]
  },
  {
   "cell_type": "code",
   "execution_count": null,
   "metadata": {},
   "outputs": [],
   "source": [
    "_balloon_colored_pops_df = tbl_balloon_colored_pops.scan().to_pandas()\n",
    "print(_balloon_colored_pops_df.head())"
   ]
  },
  {
   "cell_type": "markdown",
   "metadata": {},
   "source": [
    "#### `color_performance_trends` table\n"
   ]
  },
  {
   "cell_type": "code",
   "execution_count": 32,
   "metadata": {},
   "outputs": [
    {
     "name": "stdout",
     "output_type": "stream",
     "text": [
      "color_performance_trends(\n",
      "  1: balloon_color: required string,\n",
      "  2: avg_score_per_pop: required double,\n",
      "  3: total_pops: required int,\n",
      "  4: window_start: required timestamptz,\n",
      "  5: window_end: required timestamptz\n",
      "),\n",
      "partition by: [by_window_start_hour, by_balloon_color],\n",
      "sort order: [1 ASC NULLS LAST],\n",
      "snapshot: null\n"
     ]
    }
   ],
   "source": [
    "try:\n",
    "    tbl_color_performance_trends = catalog.load_table(\n",
    "        f\"{namespace}.color_performance_trends\"\n",
    "    )\n",
    "    print(tbl_color_performance_trends)\n",
    "except Exception as e:\n",
    "    print(e)"
   ]
  },
  {
   "cell_type": "code",
   "execution_count": null,
   "metadata": {},
   "outputs": [],
   "source": [
    "_color_performance_trends_df = tbl_color_performance_trends.scan().to_pandas()\n",
    "print(_color_performance_trends_df.head())"
   ]
  },
  {
   "cell_type": "markdown",
   "metadata": {},
   "source": [
    "## Schema Evolution\n",
    "\n",
    "An Optional example of how to do schema evolution with the leaderboard table. Table definition with two columns `player` and `total_score`, but as part of my analytics I thought to add the `bonus_hits`. Now the sink from Rising will not work as the query returns 3 columns where as the target table has two columns.\n",
    "\n",
    "**Solution** is to evolve the schema to accomodate :)\n"
   ]
  },
  {
   "cell_type": "code",
   "execution_count": null,
   "metadata": {},
   "outputs": [],
   "source": [
    "from pyiceberg.types import LongType  # int64\n",
    "\n",
    "with table.update_schema() as update:\n",
    "    update.add_column(\n",
    "        \"bonus_hits\", LongType(), \"Total number of bonus hits popped by the player\"\n",
    "    )"
   ]
  },
  {
   "cell_type": "markdown",
   "metadata": {},
   "source": [
    "Now scanning the table and loading again will result in additional column but with Null values.\n"
   ]
  },
  {
   "cell_type": "code",
   "execution_count": null,
   "metadata": {},
   "outputs": [],
   "source": [
    "df = table.scan().to_pandas()\n",
    "print(df.head(10))"
   ]
  },
  {
   "cell_type": "markdown",
   "metadata": {},
   "source": [
    "Lets recreate the sink.\n"
   ]
  },
  {
   "cell_type": "code",
   "execution_count": null,
   "metadata": {},
   "outputs": [],
   "source": [
    "table.inspect.snapshots()"
   ]
  },
  {
   "cell_type": "code",
   "execution_count": null,
   "metadata": {},
   "outputs": [],
   "source": [
    "try:\n",
    "    table2 = catalog.load_table(f\"{namespace}.realtime_scores\")\n",
    "    print(table2)\n",
    "except Exception as e:\n",
    "    print(e)"
   ]
  },
  {
   "cell_type": "code",
   "execution_count": null,
   "metadata": {},
   "outputs": [],
   "source": [
    "df = table2.scan().to_pandas()\n",
    "print(df.head(10))"
   ]
  }
 ],
 "metadata": {
  "kernelspec": {
   "display_name": ".venv",
   "language": "python",
   "name": "python3"
  },
  "language_info": {
   "codemirror_mode": {
    "name": "ipython",
    "version": 3
   },
   "file_extension": ".py",
   "mimetype": "text/x-python",
   "name": "python",
   "nbconvert_exporter": "python",
   "pygments_lexer": "ipython3",
   "version": "3.12.9"
  }
 },
 "nbformat": 4,
 "nbformat_minor": 2
}
