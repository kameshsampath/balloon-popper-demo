{
 "cells": [
  {
   "cell_type": "markdown",
   "metadata": {},
   "source": [
    "# Apache Iceberg Workbook\n",
    "\n",
    "This notebook allows to work with Iceberg tables using PyIceberg lib. This workbook helps you to \n",
    "- [x] Connect with Polaris REST Catalog\n",
    "- [x] Create Iceberg Tables \n",
    "- [x] Query Tables\n",
    "- [ ] Schema Evolution\n",
    "- [ ] Partition Evolution\n"
   ]
  },
  {
   "cell_type": "markdown",
   "metadata": {},
   "source": [
    "## Imports\n"
   ]
  },
  {
   "cell_type": "code",
   "execution_count": 75,
   "metadata": {
    "ExecuteTime": {
     "end_time": "2025-02-18T16:13:45.794619Z",
     "start_time": "2025-02-18T16:13:45.504541Z"
    }
   },
   "outputs": [],
   "source": [
    "import os\n",
    "from pathlib import Path\n",
    "\n",
    "from pyiceberg.catalog.rest import RestCatalog\n",
    "from pyiceberg.exceptions import (\n",
    "    NamespaceAlreadyExistsError,\n",
    "    NoSuchTableError,\n",
    "    TableAlreadyExistsError\n",
    ")\n",
    "\n",
    "from pyiceberg.schema import Schema\n",
    "from pyiceberg.types import (\n",
    "    NestedField,\n",
    "    StringType,\n",
    "    LongType,\n",
    "    DecimalType,\n",
    "    TimestamptzType,\n",
    ")\n",
    "\n",
    "from pyiceberg.partitioning import (\n",
    "    PartitionSpec,\n",
    "    PartitionField,\n",
    ")\n",
    "from pyiceberg.transforms import (\n",
    "    DayTransform,\n",
    "    IdentityTransform,\n",
    "    VoidTransform,\n",
    "    HourTransform,\n",
    ")\n",
    "\n",
    "from pyiceberg.table.sorting import (\n",
    "    SortOrder,\n",
    "    SortField,\n",
    "    SortDirection,\n",
    "    NullOrder,\n",
    ")"
   ]
  },
  {
   "cell_type": "markdown",
   "metadata": {},
   "source": [
    "## PyIceberg Version"
   ]
  },
  {
   "cell_type": "code",
   "execution_count": 76,
   "metadata": {},
   "outputs": [
    {
     "name": "stdout",
     "output_type": "stream",
     "text": [
      "PyIceberg version: 0.8.1\n"
     ]
    }
   ],
   "source": [
    "import pyiceberg\n",
    "\n",
    "print(f\"PyIceberg version: {pyiceberg.__version__}\")"
   ]
  },
  {
   "cell_type": "markdown",
   "metadata": {},
   "source": [
    "## Retrieve Principal Credentials\n",
    "\n",
    "As part of the catalog setup script, the Principal(`super_user`) credentials are stored in `$PROJECT_HOME/work/principal.txt`, let us retrieve it for further operations.\n"
   ]
  },
  {
   "cell_type": "code",
   "execution_count": 77,
   "metadata": {
    "ExecuteTime": {
     "end_time": "2025-02-18T16:13:50.482779Z",
     "start_time": "2025-02-18T16:13:50.479376Z"
    }
   },
   "outputs": [],
   "source": [
    "principal_cred_file = Path(os.getcwd()).parent.joinpath(\"work\", \"principal.txt\")\n",
    "with open(principal_cred_file, \"r\") as file:\n",
    "    realm, client_id, client_secret = file.readline().split(\",\")"
   ]
  },
  {
   "cell_type": "markdown",
   "metadata": {},
   "source": [
    "## Define Variables\n",
    "\n",
    "Let us define some variables for us across the notebook\n"
   ]
  },
  {
   "cell_type": "code",
   "execution_count": 78,
   "metadata": {
    "ExecuteTime": {
     "end_time": "2025-02-18T16:13:52.166753Z",
     "start_time": "2025-02-18T16:13:52.164758Z"
    }
   },
   "outputs": [],
   "source": [
    "POLARIS_BASE_URI=\"http://localhost:18181\"\n",
    "# IMPORTANT!!! /api/catalog or get the prefix from your OpenCatalog instance\n",
    "CATALOG_URI = f\"{POLARIS_BASE_URI}/api/catalog\"\n",
    "OAUTH2_SERVER_URI= f\"{POLARIS_BASE_URI}/api/catalog/v1/oauth/tokens\"\n",
    "catalog_name = \"balloon-game\"\n",
    "# database\n",
    "namespace = \"balloon_pops\""
   ]
  },
  {
   "cell_type": "markdown",
   "metadata": {},
   "source": [
    "## Working with Catalog\n",
    "\n",
    "Let us retrieve the catalog `polardb` that we created earlier using the `catalog_setup.yml` script.\n"
   ]
  },
  {
   "cell_type": "code",
   "execution_count": 79,
   "metadata": {
    "ExecuteTime": {
     "end_time": "2025-02-18T16:13:54.020484Z",
     "start_time": "2025-02-18T16:13:53.974146Z"
    }
   },
   "outputs": [],
   "source": [
    "catalog = RestCatalog(\n",
    "    name=catalog_name,\n",
    "    **{\n",
    "        \"uri\": CATALOG_URI,\n",
    "        \"credential\": f\"{client_id}:{client_secret}\",\n",
    "        \"header.content-type\": \"application/vnd.api+json\",\n",
    "        \"header.X-Iceberg-Access-Delegation\": \"vended-credentials\",\n",
    "        \"header.Polaris-Realm\": realm,\n",
    "        \"oauth2-server-uri\": OAUTH2_SERVER_URI,\n",
    "        \"warehouse\": catalog_name,\n",
    "        \"scope\": \"PRINCIPAL_ROLE:ALL\",\n",
    "    },\n",
    ")"
   ]
  },
  {
   "cell_type": "markdown",
   "metadata": {},
   "source": [
    "### Create Database(Namespace)\n",
    "\n",
    "Create a new database named `balllon_pops`\n"
   ]
  },
  {
   "cell_type": "code",
   "execution_count": 49,
   "metadata": {
    "ExecuteTime": {
     "end_time": "2025-02-17T13:20:39.579345Z",
     "start_time": "2025-02-17T13:20:39.266492Z"
    }
   },
   "outputs": [
    {
     "name": "stdout",
     "output_type": "stream",
     "text": [
      "Namespace 'balloon_pops' already exists\n"
     ]
    }
   ],
   "source": [
    "try:\n",
    "    catalog.create_namespace(namespace)\n",
    "except NamespaceAlreadyExistsError:\n",
    "    print(f\"Namespace '{namespace}' already exists\")\n",
    "except Exception as e:\n",
    "    print(e)"
   ]
  },
  {
   "cell_type": "markdown",
   "metadata": {},
   "source": [
    "## Create Tables\n"
   ]
  },
  {
   "cell_type": "markdown",
   "metadata": {},
   "source": [
    "#### Leaderboard\n"
   ]
  },
  {
   "cell_type": "code",
   "execution_count": 80,
   "metadata": {},
   "outputs": [
    {
     "ename": "TableAlreadyExistsError",
     "evalue": "AlreadyExistsException: Table already exists: balloon_pops.leaderboard",
     "output_type": "error",
     "traceback": [
      "\u001b[0;31m---------------------------------------------------------------------------\u001b[0m",
      "\u001b[0;31mHTTPError\u001b[0m                                 Traceback (most recent call last)",
      "File \u001b[0;32m~/mylabs/iceberg/balloon-popper-demo/.venv/lib/python3.12/site-packages/pyiceberg/catalog/rest.py:599\u001b[0m, in \u001b[0;36mRestCatalog._create_table\u001b[0;34m(self, identifier, schema, location, partition_spec, sort_order, properties, stage_create)\u001b[0m\n\u001b[1;32m    598\u001b[0m \u001b[38;5;28;01mtry\u001b[39;00m:\n\u001b[0;32m--> 599\u001b[0m     \u001b[43mresponse\u001b[49m\u001b[38;5;241;43m.\u001b[39;49m\u001b[43mraise_for_status\u001b[49m\u001b[43m(\u001b[49m\u001b[43m)\u001b[49m\n\u001b[1;32m    600\u001b[0m \u001b[38;5;28;01mexcept\u001b[39;00m HTTPError \u001b[38;5;28;01mas\u001b[39;00m exc:\n",
      "File \u001b[0;32m~/mylabs/iceberg/balloon-popper-demo/.venv/lib/python3.12/site-packages/requests/models.py:1024\u001b[0m, in \u001b[0;36mResponse.raise_for_status\u001b[0;34m(self)\u001b[0m\n\u001b[1;32m   1023\u001b[0m \u001b[38;5;28;01mif\u001b[39;00m http_error_msg:\n\u001b[0;32m-> 1024\u001b[0m     \u001b[38;5;28;01mraise\u001b[39;00m HTTPError(http_error_msg, response\u001b[38;5;241m=\u001b[39m\u001b[38;5;28mself\u001b[39m)\n",
      "\u001b[0;31mHTTPError\u001b[0m: 409 Client Error: Conflict for url: http://localhost:18181/api/catalog/v1/balloon-game/namespaces/balloon_pops/tables",
      "\nThe above exception was the direct cause of the following exception:\n",
      "\u001b[0;31mTableAlreadyExistsError\u001b[0m                   Traceback (most recent call last)",
      "Cell \u001b[0;32mIn[80], line 65\u001b[0m\n\u001b[1;32m     49\u001b[0m order_fields \u001b[38;5;241m=\u001b[39m [\n\u001b[1;32m     50\u001b[0m     SortField(\n\u001b[1;32m     51\u001b[0m         source_id\u001b[38;5;241m=\u001b[39m\u001b[38;5;241m2\u001b[39m,\n\u001b[0;32m   (...)\u001b[0m\n\u001b[1;32m     61\u001b[0m     ),\n\u001b[1;32m     62\u001b[0m ]\n\u001b[1;32m     63\u001b[0m sort_order \u001b[38;5;241m=\u001b[39m SortOrder(\u001b[38;5;241m*\u001b[39morder_fields)\n\u001b[0;32m---> 65\u001b[0m leaderboard_table \u001b[38;5;241m=\u001b[39m \u001b[43mcatalog\u001b[49m\u001b[38;5;241;43m.\u001b[39;49m\u001b[43mcreate_table\u001b[49m\u001b[43m(\u001b[49m\n\u001b[1;32m     66\u001b[0m \u001b[43m    \u001b[49m\u001b[43midentifier\u001b[49m\u001b[38;5;241;43m=\u001b[39;49m\u001b[43mleaderboard_table_id\u001b[49m\u001b[43m,\u001b[49m\n\u001b[1;32m     67\u001b[0m \u001b[43m    \u001b[49m\u001b[43mschema\u001b[49m\u001b[38;5;241;43m=\u001b[39;49m\u001b[43mleaderboard_schema\u001b[49m\u001b[43m,\u001b[49m\n\u001b[1;32m     68\u001b[0m \u001b[43m    \u001b[49m\u001b[43mpartition_spec\u001b[49m\u001b[38;5;241;43m=\u001b[39;49m\u001b[43mleaderboard_partition_spec\u001b[49m\u001b[43m,\u001b[49m\n\u001b[1;32m     69\u001b[0m \u001b[43m    \u001b[49m\u001b[43msort_order\u001b[49m\u001b[38;5;241;43m=\u001b[39;49m\u001b[43msort_order\u001b[49m\u001b[43m,\u001b[49m\n\u001b[1;32m     70\u001b[0m \u001b[43m    \u001b[49m\u001b[43mproperties\u001b[49m\u001b[38;5;241;43m=\u001b[39;49m\u001b[43m{\u001b[49m\n\u001b[1;32m     71\u001b[0m \u001b[43m        \u001b[49m\u001b[38;5;124;43m\"\u001b[39;49m\u001b[38;5;124;43mformat-version\u001b[39;49m\u001b[38;5;124;43m\"\u001b[39;49m\u001b[43m:\u001b[49m\u001b[43m \u001b[49m\u001b[38;5;124;43m\"\u001b[39;49m\u001b[38;5;124;43m2\u001b[39;49m\u001b[38;5;124;43m\"\u001b[39;49m\u001b[43m,\u001b[49m\u001b[43m  \u001b[49m\u001b[38;5;66;43;03m# Required for merge-on-read\u001b[39;49;00m\n\u001b[1;32m     72\u001b[0m \u001b[43m        \u001b[49m\u001b[38;5;124;43m\"\u001b[39;49m\u001b[38;5;124;43mwrite.delete.mode\u001b[39;49m\u001b[38;5;124;43m\"\u001b[39;49m\u001b[43m:\u001b[49m\u001b[43m \u001b[49m\u001b[38;5;124;43m\"\u001b[39;49m\u001b[38;5;124;43mmerge-on-read\u001b[39;49m\u001b[38;5;124;43m\"\u001b[39;49m\u001b[43m,\u001b[49m\u001b[43m  \u001b[49m\u001b[38;5;66;43;03m# required for upserts\u001b[39;49;00m\n\u001b[1;32m     73\u001b[0m \u001b[43m        \u001b[49m\u001b[38;5;124;43m\"\u001b[39;49m\u001b[38;5;124;43mwrite.update.mode\u001b[39;49m\u001b[38;5;124;43m\"\u001b[39;49m\u001b[43m:\u001b[49m\u001b[43m \u001b[49m\u001b[38;5;124;43m\"\u001b[39;49m\u001b[38;5;124;43mmerge-on-read\u001b[39;49m\u001b[38;5;124;43m\"\u001b[39;49m\u001b[43m,\u001b[49m\u001b[43m  \u001b[49m\u001b[38;5;66;43;03m# required for upserts\u001b[39;49;00m\n\u001b[1;32m     74\u001b[0m \u001b[43m        \u001b[49m\u001b[38;5;124;43m\"\u001b[39;49m\u001b[38;5;124;43mwrite.merge.mode\u001b[39;49m\u001b[38;5;124;43m\"\u001b[39;49m\u001b[43m:\u001b[49m\u001b[43m \u001b[49m\u001b[38;5;124;43m\"\u001b[39;49m\u001b[38;5;124;43mmerge-on-read\u001b[39;49m\u001b[38;5;124;43m\"\u001b[39;49m\u001b[43m,\u001b[49m\u001b[43m  \u001b[49m\u001b[38;5;66;43;03m# required for upserts\u001b[39;49;00m\n\u001b[1;32m     75\u001b[0m \u001b[43m    \u001b[49m\u001b[43m}\u001b[49m\u001b[43m,\u001b[49m\n\u001b[1;32m     76\u001b[0m \u001b[43m)\u001b[49m\n\u001b[1;32m     77\u001b[0m \u001b[38;5;28mprint\u001b[39m(\u001b[38;5;124mf\u001b[39m\u001b[38;5;124m\"\u001b[39m\u001b[38;5;124mTable \u001b[39m\u001b[38;5;132;01m{\u001b[39;00mleaderboard_table_id\u001b[38;5;132;01m}\u001b[39;00m\u001b[38;5;124m,\u001b[39m\u001b[38;5;130;01m\\n\u001b[39;00m\u001b[38;5;132;01m{\u001b[39;00mleaderboard_table\u001b[38;5;132;01m}\u001b[39;00m\u001b[38;5;124m\"\u001b[39m)\n",
      "File \u001b[0;32m~/mylabs/iceberg/balloon-popper-demo/.venv/lib/python3.12/site-packages/tenacity/__init__.py:336\u001b[0m, in \u001b[0;36mBaseRetrying.wraps.<locals>.wrapped_f\u001b[0;34m(*args, **kw)\u001b[0m\n\u001b[1;32m    334\u001b[0m copy \u001b[38;5;241m=\u001b[39m \u001b[38;5;28mself\u001b[39m\u001b[38;5;241m.\u001b[39mcopy()\n\u001b[1;32m    335\u001b[0m wrapped_f\u001b[38;5;241m.\u001b[39mstatistics \u001b[38;5;241m=\u001b[39m copy\u001b[38;5;241m.\u001b[39mstatistics  \u001b[38;5;66;03m# type: ignore[attr-defined]\u001b[39;00m\n\u001b[0;32m--> 336\u001b[0m \u001b[38;5;28;01mreturn\u001b[39;00m \u001b[43mcopy\u001b[49m\u001b[43m(\u001b[49m\u001b[43mf\u001b[49m\u001b[43m,\u001b[49m\u001b[43m \u001b[49m\u001b[38;5;241;43m*\u001b[39;49m\u001b[43margs\u001b[49m\u001b[43m,\u001b[49m\u001b[43m \u001b[49m\u001b[38;5;241;43m*\u001b[39;49m\u001b[38;5;241;43m*\u001b[39;49m\u001b[43mkw\u001b[49m\u001b[43m)\u001b[49m\n",
      "File \u001b[0;32m~/mylabs/iceberg/balloon-popper-demo/.venv/lib/python3.12/site-packages/tenacity/__init__.py:475\u001b[0m, in \u001b[0;36mRetrying.__call__\u001b[0;34m(self, fn, *args, **kwargs)\u001b[0m\n\u001b[1;32m    473\u001b[0m retry_state \u001b[38;5;241m=\u001b[39m RetryCallState(retry_object\u001b[38;5;241m=\u001b[39m\u001b[38;5;28mself\u001b[39m, fn\u001b[38;5;241m=\u001b[39mfn, args\u001b[38;5;241m=\u001b[39margs, kwargs\u001b[38;5;241m=\u001b[39mkwargs)\n\u001b[1;32m    474\u001b[0m \u001b[38;5;28;01mwhile\u001b[39;00m \u001b[38;5;28;01mTrue\u001b[39;00m:\n\u001b[0;32m--> 475\u001b[0m     do \u001b[38;5;241m=\u001b[39m \u001b[38;5;28;43mself\u001b[39;49m\u001b[38;5;241;43m.\u001b[39;49m\u001b[43miter\u001b[49m\u001b[43m(\u001b[49m\u001b[43mretry_state\u001b[49m\u001b[38;5;241;43m=\u001b[39;49m\u001b[43mretry_state\u001b[49m\u001b[43m)\u001b[49m\n\u001b[1;32m    476\u001b[0m     \u001b[38;5;28;01mif\u001b[39;00m \u001b[38;5;28misinstance\u001b[39m(do, DoAttempt):\n\u001b[1;32m    477\u001b[0m         \u001b[38;5;28;01mtry\u001b[39;00m:\n",
      "File \u001b[0;32m~/mylabs/iceberg/balloon-popper-demo/.venv/lib/python3.12/site-packages/tenacity/__init__.py:376\u001b[0m, in \u001b[0;36mBaseRetrying.iter\u001b[0;34m(self, retry_state)\u001b[0m\n\u001b[1;32m    374\u001b[0m result \u001b[38;5;241m=\u001b[39m \u001b[38;5;28;01mNone\u001b[39;00m\n\u001b[1;32m    375\u001b[0m \u001b[38;5;28;01mfor\u001b[39;00m action \u001b[38;5;129;01min\u001b[39;00m \u001b[38;5;28mself\u001b[39m\u001b[38;5;241m.\u001b[39miter_state\u001b[38;5;241m.\u001b[39mactions:\n\u001b[0;32m--> 376\u001b[0m     result \u001b[38;5;241m=\u001b[39m \u001b[43maction\u001b[49m\u001b[43m(\u001b[49m\u001b[43mretry_state\u001b[49m\u001b[43m)\u001b[49m\n\u001b[1;32m    377\u001b[0m \u001b[38;5;28;01mreturn\u001b[39;00m result\n",
      "File \u001b[0;32m~/mylabs/iceberg/balloon-popper-demo/.venv/lib/python3.12/site-packages/tenacity/__init__.py:398\u001b[0m, in \u001b[0;36mBaseRetrying._post_retry_check_actions.<locals>.<lambda>\u001b[0;34m(rs)\u001b[0m\n\u001b[1;32m    396\u001b[0m \u001b[38;5;28;01mdef\u001b[39;00m\u001b[38;5;250m \u001b[39m\u001b[38;5;21m_post_retry_check_actions\u001b[39m(\u001b[38;5;28mself\u001b[39m, retry_state: \u001b[38;5;124m\"\u001b[39m\u001b[38;5;124mRetryCallState\u001b[39m\u001b[38;5;124m\"\u001b[39m) \u001b[38;5;241m-\u001b[39m\u001b[38;5;241m>\u001b[39m \u001b[38;5;28;01mNone\u001b[39;00m:\n\u001b[1;32m    397\u001b[0m     \u001b[38;5;28;01mif\u001b[39;00m \u001b[38;5;129;01mnot\u001b[39;00m (\u001b[38;5;28mself\u001b[39m\u001b[38;5;241m.\u001b[39miter_state\u001b[38;5;241m.\u001b[39mis_explicit_retry \u001b[38;5;129;01mor\u001b[39;00m \u001b[38;5;28mself\u001b[39m\u001b[38;5;241m.\u001b[39miter_state\u001b[38;5;241m.\u001b[39mretry_run_result):\n\u001b[0;32m--> 398\u001b[0m         \u001b[38;5;28mself\u001b[39m\u001b[38;5;241m.\u001b[39m_add_action_func(\u001b[38;5;28;01mlambda\u001b[39;00m rs: \u001b[43mrs\u001b[49m\u001b[38;5;241;43m.\u001b[39;49m\u001b[43moutcome\u001b[49m\u001b[38;5;241;43m.\u001b[39;49m\u001b[43mresult\u001b[49m\u001b[43m(\u001b[49m\u001b[43m)\u001b[49m)\n\u001b[1;32m    399\u001b[0m         \u001b[38;5;28;01mreturn\u001b[39;00m\n\u001b[1;32m    401\u001b[0m     \u001b[38;5;28;01mif\u001b[39;00m \u001b[38;5;28mself\u001b[39m\u001b[38;5;241m.\u001b[39mafter \u001b[38;5;129;01mis\u001b[39;00m \u001b[38;5;129;01mnot\u001b[39;00m \u001b[38;5;28;01mNone\u001b[39;00m:\n",
      "File \u001b[0;32m/opt/homebrew/Cellar/python@3.12/3.12.9/Frameworks/Python.framework/Versions/3.12/lib/python3.12/concurrent/futures/_base.py:449\u001b[0m, in \u001b[0;36mFuture.result\u001b[0;34m(self, timeout)\u001b[0m\n\u001b[1;32m    447\u001b[0m     \u001b[38;5;28;01mraise\u001b[39;00m CancelledError()\n\u001b[1;32m    448\u001b[0m \u001b[38;5;28;01melif\u001b[39;00m \u001b[38;5;28mself\u001b[39m\u001b[38;5;241m.\u001b[39m_state \u001b[38;5;241m==\u001b[39m FINISHED:\n\u001b[0;32m--> 449\u001b[0m     \u001b[38;5;28;01mreturn\u001b[39;00m \u001b[38;5;28;43mself\u001b[39;49m\u001b[38;5;241;43m.\u001b[39;49m\u001b[43m__get_result\u001b[49m\u001b[43m(\u001b[49m\u001b[43m)\u001b[49m\n\u001b[1;32m    451\u001b[0m \u001b[38;5;28mself\u001b[39m\u001b[38;5;241m.\u001b[39m_condition\u001b[38;5;241m.\u001b[39mwait(timeout)\n\u001b[1;32m    453\u001b[0m \u001b[38;5;28;01mif\u001b[39;00m \u001b[38;5;28mself\u001b[39m\u001b[38;5;241m.\u001b[39m_state \u001b[38;5;129;01min\u001b[39;00m [CANCELLED, CANCELLED_AND_NOTIFIED]:\n",
      "File \u001b[0;32m/opt/homebrew/Cellar/python@3.12/3.12.9/Frameworks/Python.framework/Versions/3.12/lib/python3.12/concurrent/futures/_base.py:401\u001b[0m, in \u001b[0;36mFuture.__get_result\u001b[0;34m(self)\u001b[0m\n\u001b[1;32m    399\u001b[0m \u001b[38;5;28;01mif\u001b[39;00m \u001b[38;5;28mself\u001b[39m\u001b[38;5;241m.\u001b[39m_exception:\n\u001b[1;32m    400\u001b[0m     \u001b[38;5;28;01mtry\u001b[39;00m:\n\u001b[0;32m--> 401\u001b[0m         \u001b[38;5;28;01mraise\u001b[39;00m \u001b[38;5;28mself\u001b[39m\u001b[38;5;241m.\u001b[39m_exception\n\u001b[1;32m    402\u001b[0m     \u001b[38;5;28;01mfinally\u001b[39;00m:\n\u001b[1;32m    403\u001b[0m         \u001b[38;5;66;03m# Break a reference cycle with the exception in self._exception\u001b[39;00m\n\u001b[1;32m    404\u001b[0m         \u001b[38;5;28mself\u001b[39m \u001b[38;5;241m=\u001b[39m \u001b[38;5;28;01mNone\u001b[39;00m\n",
      "File \u001b[0;32m~/mylabs/iceberg/balloon-popper-demo/.venv/lib/python3.12/site-packages/tenacity/__init__.py:478\u001b[0m, in \u001b[0;36mRetrying.__call__\u001b[0;34m(self, fn, *args, **kwargs)\u001b[0m\n\u001b[1;32m    476\u001b[0m \u001b[38;5;28;01mif\u001b[39;00m \u001b[38;5;28misinstance\u001b[39m(do, DoAttempt):\n\u001b[1;32m    477\u001b[0m     \u001b[38;5;28;01mtry\u001b[39;00m:\n\u001b[0;32m--> 478\u001b[0m         result \u001b[38;5;241m=\u001b[39m \u001b[43mfn\u001b[49m\u001b[43m(\u001b[49m\u001b[38;5;241;43m*\u001b[39;49m\u001b[43margs\u001b[49m\u001b[43m,\u001b[49m\u001b[43m \u001b[49m\u001b[38;5;241;43m*\u001b[39;49m\u001b[38;5;241;43m*\u001b[39;49m\u001b[43mkwargs\u001b[49m\u001b[43m)\u001b[49m\n\u001b[1;32m    479\u001b[0m     \u001b[38;5;28;01mexcept\u001b[39;00m \u001b[38;5;167;01mBaseException\u001b[39;00m:  \u001b[38;5;66;03m# noqa: B902\u001b[39;00m\n\u001b[1;32m    480\u001b[0m         retry_state\u001b[38;5;241m.\u001b[39mset_exception(sys\u001b[38;5;241m.\u001b[39mexc_info())  \u001b[38;5;66;03m# type: ignore[arg-type]\u001b[39;00m\n",
      "File \u001b[0;32m~/mylabs/iceberg/balloon-popper-demo/.venv/lib/python3.12/site-packages/pyiceberg/catalog/rest.py:614\u001b[0m, in \u001b[0;36mRestCatalog.create_table\u001b[0;34m(self, identifier, schema, location, partition_spec, sort_order, properties)\u001b[0m\n\u001b[1;32m    604\u001b[0m \u001b[38;5;129m@retry\u001b[39m(\u001b[38;5;241m*\u001b[39m\u001b[38;5;241m*\u001b[39m_RETRY_ARGS)\n\u001b[1;32m    605\u001b[0m \u001b[38;5;28;01mdef\u001b[39;00m\u001b[38;5;250m \u001b[39m\u001b[38;5;21mcreate_table\u001b[39m(\n\u001b[1;32m    606\u001b[0m     \u001b[38;5;28mself\u001b[39m,\n\u001b[0;32m   (...)\u001b[0m\n\u001b[1;32m    612\u001b[0m     properties: Properties \u001b[38;5;241m=\u001b[39m EMPTY_DICT,\n\u001b[1;32m    613\u001b[0m ) \u001b[38;5;241m-\u001b[39m\u001b[38;5;241m>\u001b[39m Table:\n\u001b[0;32m--> 614\u001b[0m     table_response \u001b[38;5;241m=\u001b[39m \u001b[38;5;28;43mself\u001b[39;49m\u001b[38;5;241;43m.\u001b[39;49m\u001b[43m_create_table\u001b[49m\u001b[43m(\u001b[49m\n\u001b[1;32m    615\u001b[0m \u001b[43m        \u001b[49m\u001b[43midentifier\u001b[49m\u001b[38;5;241;43m=\u001b[39;49m\u001b[43midentifier\u001b[49m\u001b[43m,\u001b[49m\n\u001b[1;32m    616\u001b[0m \u001b[43m        \u001b[49m\u001b[43mschema\u001b[49m\u001b[38;5;241;43m=\u001b[39;49m\u001b[43mschema\u001b[49m\u001b[43m,\u001b[49m\n\u001b[1;32m    617\u001b[0m \u001b[43m        \u001b[49m\u001b[43mlocation\u001b[49m\u001b[38;5;241;43m=\u001b[39;49m\u001b[43mlocation\u001b[49m\u001b[43m,\u001b[49m\n\u001b[1;32m    618\u001b[0m \u001b[43m        \u001b[49m\u001b[43mpartition_spec\u001b[49m\u001b[38;5;241;43m=\u001b[39;49m\u001b[43mpartition_spec\u001b[49m\u001b[43m,\u001b[49m\n\u001b[1;32m    619\u001b[0m \u001b[43m        \u001b[49m\u001b[43msort_order\u001b[49m\u001b[38;5;241;43m=\u001b[39;49m\u001b[43msort_order\u001b[49m\u001b[43m,\u001b[49m\n\u001b[1;32m    620\u001b[0m \u001b[43m        \u001b[49m\u001b[43mproperties\u001b[49m\u001b[38;5;241;43m=\u001b[39;49m\u001b[43mproperties\u001b[49m\u001b[43m,\u001b[49m\n\u001b[1;32m    621\u001b[0m \u001b[43m        \u001b[49m\u001b[43mstage_create\u001b[49m\u001b[38;5;241;43m=\u001b[39;49m\u001b[38;5;28;43;01mFalse\u001b[39;49;00m\u001b[43m,\u001b[49m\n\u001b[1;32m    622\u001b[0m \u001b[43m    \u001b[49m\u001b[43m)\u001b[49m\n\u001b[1;32m    623\u001b[0m     \u001b[38;5;28;01mreturn\u001b[39;00m \u001b[38;5;28mself\u001b[39m\u001b[38;5;241m.\u001b[39m_response_to_table(\u001b[38;5;28mself\u001b[39m\u001b[38;5;241m.\u001b[39midentifier_to_tuple(identifier), table_response)\n",
      "File \u001b[0;32m~/mylabs/iceberg/balloon-popper-demo/.venv/lib/python3.12/site-packages/pyiceberg/catalog/rest.py:601\u001b[0m, in \u001b[0;36mRestCatalog._create_table\u001b[0;34m(self, identifier, schema, location, partition_spec, sort_order, properties, stage_create)\u001b[0m\n\u001b[1;32m    599\u001b[0m     response\u001b[38;5;241m.\u001b[39mraise_for_status()\n\u001b[1;32m    600\u001b[0m \u001b[38;5;28;01mexcept\u001b[39;00m HTTPError \u001b[38;5;28;01mas\u001b[39;00m exc:\n\u001b[0;32m--> 601\u001b[0m     \u001b[38;5;28;43mself\u001b[39;49m\u001b[38;5;241;43m.\u001b[39;49m\u001b[43m_handle_non_200_response\u001b[49m\u001b[43m(\u001b[49m\u001b[43mexc\u001b[49m\u001b[43m,\u001b[49m\u001b[43m \u001b[49m\u001b[43m{\u001b[49m\u001b[38;5;241;43m409\u001b[39;49m\u001b[43m:\u001b[49m\u001b[43m \u001b[49m\u001b[43mTableAlreadyExistsError\u001b[49m\u001b[43m}\u001b[49m\u001b[43m)\u001b[49m\n\u001b[1;32m    602\u001b[0m \u001b[38;5;28;01mreturn\u001b[39;00m TableResponse(\u001b[38;5;241m*\u001b[39m\u001b[38;5;241m*\u001b[39mresponse\u001b[38;5;241m.\u001b[39mjson())\n",
      "File \u001b[0;32m~/mylabs/iceberg/balloon-popper-demo/.venv/lib/python3.12/site-packages/pyiceberg/catalog/rest.py:472\u001b[0m, in \u001b[0;36mRestCatalog._handle_non_200_response\u001b[0;34m(self, exc, error_handler)\u001b[0m\n\u001b[1;32m    467\u001b[0m     errs \u001b[38;5;241m=\u001b[39m \u001b[38;5;124m\"\u001b[39m\u001b[38;5;124m, \u001b[39m\u001b[38;5;124m\"\u001b[39m\u001b[38;5;241m.\u001b[39mjoin(err[\u001b[38;5;124m\"\u001b[39m\u001b[38;5;124mmsg\u001b[39m\u001b[38;5;124m\"\u001b[39m] \u001b[38;5;28;01mfor\u001b[39;00m err \u001b[38;5;129;01min\u001b[39;00m e\u001b[38;5;241m.\u001b[39merrors())\n\u001b[1;32m    468\u001b[0m     response \u001b[38;5;241m=\u001b[39m (\n\u001b[1;32m    469\u001b[0m         \u001b[38;5;124mf\u001b[39m\u001b[38;5;124m\"\u001b[39m\u001b[38;5;124mRESTError \u001b[39m\u001b[38;5;132;01m{\u001b[39;00mexc\u001b[38;5;241m.\u001b[39mresponse\u001b[38;5;241m.\u001b[39mstatus_code\u001b[38;5;132;01m}\u001b[39;00m\u001b[38;5;124m: Received unexpected JSON Payload: \u001b[39m\u001b[38;5;132;01m{\u001b[39;00mexc\u001b[38;5;241m.\u001b[39mresponse\u001b[38;5;241m.\u001b[39mtext\u001b[38;5;132;01m}\u001b[39;00m\u001b[38;5;124m, errors: \u001b[39m\u001b[38;5;132;01m{\u001b[39;00merrs\u001b[38;5;132;01m}\u001b[39;00m\u001b[38;5;124m\"\u001b[39m\n\u001b[1;32m    470\u001b[0m     )\n\u001b[0;32m--> 472\u001b[0m \u001b[38;5;28;01mraise\u001b[39;00m exception(response) \u001b[38;5;28;01mfrom\u001b[39;00m\u001b[38;5;250m \u001b[39m\u001b[38;5;21;01mexc\u001b[39;00m\n",
      "\u001b[0;31mTableAlreadyExistsError\u001b[0m: AlreadyExistsException: Table already exists: balloon_pops.leaderboard"
     ]
    }
   ],
   "source": [
    "## Create leaderboard Table\n",
    "leaderboard_table_id = f\"{namespace}.leaderboard\"\n",
    "# since its demo, dropping and creating it for sanity\n",
    "#catalog.drop_table(leaderboard_table_id)\n",
    "## Schema\n",
    "leaderboard_schema = Schema(\n",
    "    NestedField(\n",
    "        field_id=1,\n",
    "        name=\"player\",\n",
    "        type=StringType(),\n",
    "        required=True,\n",
    "    ),\n",
    "    NestedField(\n",
    "        field_id=2,\n",
    "        name=\"total_score\",\n",
    "        type=LongType(),\n",
    "        required=True,\n",
    "    ),\n",
    "    NestedField(\n",
    "        field_id=3,\n",
    "        name=\"bonus_hits\",\n",
    "        type=LongType(),\n",
    "        required=True,\n",
    "    ),\n",
    "    NestedField(\n",
    "        field_id=4,\n",
    "        name=\"event_ts\",\n",
    "        type=TimestamptzType(),\n",
    "        required=True,\n",
    "    ),\n",
    ")\n",
    "## Partition Specification\n",
    "partition_fields = [\n",
    "    PartitionField(\n",
    "        source_id=4,\n",
    "        field_id=1001,\n",
    "        transform=DayTransform(),\n",
    "        name=\"datetime_day\",\n",
    "    ),\n",
    "    PartitionField(\n",
    "        source_id=1,\n",
    "        field_id=1002,\n",
    "        transform=IdentityTransform(),\n",
    "        name=\"by_player\",\n",
    "    ),\n",
    "]\n",
    "leaderboard_partition_spec = PartitionSpec(*partition_fields)\n",
    "## Sort Specification\n",
    "order_fields = [\n",
    "    SortField(\n",
    "        source_id=2,\n",
    "        direction=SortDirection.DESC,\n",
    "        null_order=NullOrder.NULLS_LAST,\n",
    "        transform=VoidTransform(),\n",
    "    ),\n",
    "    SortField(\n",
    "        source_id=3,\n",
    "        direction=SortDirection.DESC,\n",
    "        null_order=NullOrder.NULLS_LAST,\n",
    "        transform=VoidTransform(),\n",
    "    ),\n",
    "]\n",
    "sort_order = SortOrder(*order_fields)\n",
    "\n",
    "leaderboard_table = catalog.create_table(\n",
    "    identifier=leaderboard_table_id,\n",
    "    schema=leaderboard_schema,\n",
    "    partition_spec=leaderboard_partition_spec,\n",
    "    sort_order=sort_order,\n",
    "    properties={\n",
    "        \"format-version\": \"2\",  # Required for merge-on-read\n",
    "        \"write.delete.mode\": \"merge-on-read\",  # required for upserts\n",
    "        \"write.update.mode\": \"merge-on-read\",  # required for upserts\n",
    "        \"write.merge.mode\": \"merge-on-read\",  # required for upserts\n",
    "    },\n",
    ")\n",
    "print(f\"Table {leaderboard_table_id},\\n{leaderboard_table}\")"
   ]
  },
  {
   "cell_type": "markdown",
   "metadata": {},
   "source": [
    "#### Balloon Color Stats"
   ]
  },
  {
   "cell_type": "code",
   "execution_count": null,
   "metadata": {},
   "outputs": [
    {
     "name": "stdout",
     "output_type": "stream",
     "text": [
      "Table balloon_pops.balloon_color_stats,\n",
      "balloon_color_stats(\n",
      "  1: player: required string,\n",
      "  2: balloon_color: required string,\n",
      "  3: balloon_pops: required long,\n",
      "  4: points_by_color: required long,\n",
      "  5: bonus_hits: required long,\n",
      "  6: event_ts: required timestamptz\n",
      "),\n",
      "partition by: [datetime_day, by_balloon_color, by_player],\n",
      "sort order: [void(4) DESC NULLS LAST, void(3) DESC NULLS LAST],\n",
      "snapshot: null\n"
     ]
    }
   ],
   "source": [
    "## Create balloon_color_stats table\n",
    "balloon_color_stats_table_id = f\"{namespace}.balloon_color_stats\"\n",
    "# since its demo, dropping and creating it for sanity\n",
    "#catalog.drop_table(balloon_color_stats_table_id)\n",
    "## Schema\n",
    "balloon_color_stats_schema = Schema(\n",
    "    NestedField(\n",
    "        field_id=1,\n",
    "        name=\"player\",\n",
    "        type=StringType(),\n",
    "        required=True,\n",
    "    ),\n",
    "    NestedField(\n",
    "        field_id=2,\n",
    "        name=\"balloon_color\",\n",
    "        type=StringType(),\n",
    "        required=True,\n",
    "    ),\n",
    "    NestedField(\n",
    "        field_id=3,\n",
    "        name=\"balloon_pops\",\n",
    "        type=LongType(),\n",
    "        required=True,\n",
    "    ),\n",
    "    NestedField(\n",
    "        field_id=4,\n",
    "        name=\"points_by_color\",\n",
    "        type=LongType(),\n",
    "        required=True,\n",
    "    ),\n",
    "    NestedField(\n",
    "        field_id=5,\n",
    "        name=\"bonus_hits\",\n",
    "        type=LongType(),\n",
    "        required=True,\n",
    "    ),\n",
    "    NestedField(\n",
    "        field_id=6,\n",
    "        name=\"event_ts\",\n",
    "        type=TimestamptzType(),\n",
    "        required=True,\n",
    "    ),\n",
    ")\n",
    "## Partition Specification\n",
    "partition_fields = [\n",
    "    PartitionField(\n",
    "        source_id=6,\n",
    "        field_id=1001,\n",
    "        transform=DayTransform(),\n",
    "        name=\"datetime_day\",\n",
    "    ),\n",
    "    PartitionField(\n",
    "        source_id=2,\n",
    "        field_id=1002,\n",
    "        transform=IdentityTransform(),\n",
    "        name=\"by_balloon_color\",\n",
    "    ),\n",
    "    PartitionField(\n",
    "        source_id=1,\n",
    "        field_id=1003,\n",
    "        transform=IdentityTransform(),\n",
    "        name=\"by_player\",\n",
    "    ),\n",
    "]\n",
    "balloon_color_stats_partition_spec = PartitionSpec(*partition_fields)\n",
    "## Sort Specification\n",
    "order_fields = [\n",
    "    SortField(\n",
    "        source_id=4,\n",
    "        direction=SortDirection.DESC,\n",
    "        null_order=NullOrder.NULLS_LAST,\n",
    "        transform=VoidTransform(),\n",
    "    ),\n",
    "    SortField(\n",
    "        source_id=3,\n",
    "        direction=SortDirection.DESC,\n",
    "        null_order=NullOrder.NULLS_LAST,\n",
    "        transform=VoidTransform(),\n",
    "    ),\n",
    "]\n",
    "sort_order = SortOrder(*order_fields)\n",
    "## Create Table\n",
    "balloon_color_stats_table = catalog.create_table(\n",
    "    identifier=balloon_color_stats_table_id,\n",
    "    schema=balloon_color_stats_schema,\n",
    "    partition_spec=balloon_color_stats_partition_spec,\n",
    "    sort_order=sort_order,\n",
    "    properties={\n",
    "        \"format-version\": \"2\",  # Required for merge-on-read\n",
    "        \"write.delete.mode\": \"merge-on-read\",  # required for upserts\n",
    "        \"write.update.mode\": \"merge-on-read\",  # required for upserts\n",
    "        \"write.merge.mode\": \"merge-on-read\",  # required for upserts\n",
    "    },\n",
    ")\n",
    "print(f\"Table {balloon_color_stats_table_id},\\n{balloon_color_stats_table}\")"
   ]
  },
  {
   "cell_type": "markdown",
   "metadata": {},
   "source": [
    "### Timseries"
   ]
  },
  {
   "cell_type": "markdown",
   "metadata": {},
   "source": [
    "#### Realtime Scores"
   ]
  },
  {
   "cell_type": "code",
   "execution_count": null,
   "metadata": {},
   "outputs": [
    {
     "name": "stdout",
     "output_type": "stream",
     "text": [
      "NoSuchTableException: Table does not exist: balloon_pops.realtime_scores\n"
     ]
    }
   ],
   "source": [
    "## Create realtime_scores table\n",
    "realtime_scores_tbl_id = f\"{namespace}.realtime_scores\"\n",
    "# since its demo, dropping and creating it for sanity\n",
    "try:\n",
    "    catalog.drop_table(realtime_scores_tbl_id)\n",
    "    ## Schema\n",
    "    realtime_scores_schema = Schema(\n",
    "        NestedField(\n",
    "            field_id=1,\n",
    "            name=\"player\",\n",
    "            type=StringType(),\n",
    "            required=True,\n",
    "        ),\n",
    "        NestedField(\n",
    "            field_id=2,\n",
    "            name=\"total_score\",\n",
    "            type=LongType(),\n",
    "            required=True,\n",
    "        ),\n",
    "        NestedField(\n",
    "            field_id=3,\n",
    "            name=\"window_start\",\n",
    "            type=TimestamptzType(),\n",
    "            required=True,\n",
    "        ),\n",
    "        NestedField(\n",
    "            field_id=4,\n",
    "            name=\"window_end\",\n",
    "            type=TimestamptzType(),\n",
    "            required=True,\n",
    "        ),\n",
    "    )\n",
    "\n",
    "    realtime_scores_table = catalog.create_table(\n",
    "        identifier=realtime_scores_tbl_id,\n",
    "        schema=realtime_scores_schema,\n",
    "        partition_spec=PartitionSpec(\n",
    "            PartitionField(\n",
    "                source_id=3,\n",
    "                field_id=1001,\n",
    "                name=\"by_window_start_hour\",\n",
    "                transform=HourTransform(),\n",
    "            ),\n",
    "        ),\n",
    "        properties={\n",
    "            \"format-version\": \"2\",\n",
    "        },\n",
    "    )\n",
    "    print(f\"Table {realtime_scores_tbl_id},\\n{realtime_scores_table}\")\n",
    "except NoSuchTableError as err:\n",
    "    print(err)\n",
    "except TableAlreadyExistsError as err2:\n",
    "    print(err2)"
   ]
  },
  {
   "cell_type": "markdown",
   "metadata": {},
   "source": [
    "#### Balloon Colored Pops"
   ]
  },
  {
   "cell_type": "code",
   "execution_count": null,
   "metadata": {},
   "outputs": [
    {
     "name": "stdout",
     "output_type": "stream",
     "text": [
      "Table balloon_pops.balloon_colored_pops,\n",
      "balloon_colored_pops(\n",
      "  1: player: required string,\n",
      "  2: balloon_color: required string,\n",
      "  3: balloon_pops: required long,\n",
      "  4: points_by_color: required long,\n",
      "  5: bonus_hits: required long,\n",
      "  6: window_start: required timestamptz,\n",
      "  7: window_end: required timestamptz\n",
      "),\n",
      "partition by: [by_window_start_hour, by_player],\n",
      "sort order: [2 ASC NULLS LAST],\n",
      "snapshot: null\n"
     ]
    }
   ],
   "source": [
    "## Create balloon_colored_pops table\n",
    "balloon_colored_pops_tbl_id = f\"{namespace}.balloon_colored_pops\"\n",
    "#catalog.drop_table(balloon_colored_pops_tbl_id)\n",
    "## Schema\n",
    "balloon_colored_pops_schema = Schema(\n",
    "    NestedField(\n",
    "        field_id=1,\n",
    "        name=\"player\",\n",
    "        type=StringType(),\n",
    "        required=True,\n",
    "    ),\n",
    "    NestedField(\n",
    "        field_id=2,\n",
    "        name=\"balloon_color\",\n",
    "        type=StringType(),\n",
    "        required=True,\n",
    "    ),\n",
    "    NestedField(\n",
    "        field_id=3,\n",
    "        name=\"balloon_pops\",\n",
    "        type=LongType(),\n",
    "        required=True,\n",
    "    ),\n",
    "    NestedField(\n",
    "        field_id=4,\n",
    "        name=\"points_by_color\",\n",
    "        type=LongType(),\n",
    "        required=True,\n",
    "    ),\n",
    "    NestedField(\n",
    "        field_id=5,\n",
    "        name=\"bonus_hits\",\n",
    "        type=LongType(),\n",
    "        required=True,\n",
    "    ),\n",
    "    NestedField(\n",
    "        field_id=6,\n",
    "        name=\"window_start\",\n",
    "        type=TimestamptzType(),\n",
    "        required=True,\n",
    "    ),\n",
    "    NestedField(\n",
    "        field_id=7,\n",
    "        name=\"window_end\",\n",
    "        type=TimestamptzType(),\n",
    "        required=True,\n",
    "    ),\n",
    ")\n",
    "\n",
    "partition_fields = [\n",
    "    PartitionField(\n",
    "        source_id=6,  # window_start\n",
    "        field_id=1001,\n",
    "        name=\"by_window_start_hour\",\n",
    "        transform=HourTransform(),\n",
    "    ),\n",
    "    PartitionField(\n",
    "        source_id=1,  # player field\n",
    "        field_id=1002,\n",
    "        name=\"by_player\",\n",
    "        transform=IdentityTransform(),\n",
    "    ),\n",
    "]\n",
    "balloon_colored_pops_table = catalog.create_table(\n",
    "    identifier=balloon_colored_pops_tbl_id,\n",
    "    schema=balloon_colored_pops_schema,\n",
    "    partition_spec=PartitionSpec(*partition_fields),\n",
    "    sort_order=SortOrder(\n",
    "        SortField(\n",
    "            source_id=2,  # balloon_color field\n",
    "            transform=IdentityTransform(),\n",
    "            direction=SortDirection.ASC,\n",
    "            null_order=NullOrder.NULLS_LAST,\n",
    "        ),\n",
    "    ),\n",
    "    properties={\n",
    "        \"format-version\": \"2\",\n",
    "    },\n",
    ")\n",
    "print(f\"Table {balloon_colored_pops_tbl_id},\\n{balloon_colored_pops_table}\")"
   ]
  },
  {
   "cell_type": "markdown",
   "metadata": {},
   "source": [
    "#### Color Performance Trends"
   ]
  },
  {
   "cell_type": "code",
   "execution_count": null,
   "metadata": {},
   "outputs": [
    {
     "name": "stdout",
     "output_type": "stream",
     "text": [
      "Table balloon_pops.color_performance_trends, color_performance_trends(\n",
      "  1: balloon_color: required string,\n",
      "  2: avg_score_per_pop: required decimal(2, 10),\n",
      "  3: total_pops: required long,\n",
      "  4: window_start: required timestamptz,\n",
      "  5: window_end: required timestamptz\n",
      "),\n",
      "partition by: [by_window_start_hour, by_balloon_color],\n",
      "sort order: [1 ASC NULLS LAST],\n",
      "snapshot: null\n"
     ]
    }
   ],
   "source": [
    "## Create color_performance_trends table\n",
    "color_performance_trends_pops_tbl_id = f\"{namespace}.color_performance_trends\"\n",
    "# catalog.drop_table(color_performance_trends_pops_tbl_id)\n",
    "## Schema\n",
    "color_performance_trends_pops_schema = Schema(\n",
    "    NestedField(\n",
    "        field_id=1,\n",
    "        name=\"balloon_color\",\n",
    "        type=StringType(),\n",
    "        required=True,\n",
    "    ),\n",
    "    NestedField(\n",
    "        field_id=2,\n",
    "        name=\"avg_score_per_pop\",\n",
    "        type=DecimalType(2,10),\n",
    "        required=True,\n",
    "    ),\n",
    "    NestedField(\n",
    "        field_id=3,\n",
    "        name=\"total_pops\",\n",
    "        type=LongType(),\n",
    "        required=True,\n",
    "    ),\n",
    "    NestedField(\n",
    "        field_id=4,\n",
    "        name=\"window_start\",\n",
    "        type=TimestamptzType(),\n",
    "        required=True,\n",
    "    ),\n",
    "    NestedField(\n",
    "        field_id=5,\n",
    "        name=\"window_end\",\n",
    "        type=TimestamptzType(),\n",
    "        required=True,\n",
    "    ),\n",
    ")\n",
    "\n",
    "partition_fields = [\n",
    "    PartitionField(\n",
    "        source_id=4,  # window_start\n",
    "        field_id=1001,\n",
    "        name=\"by_window_start_hour\",\n",
    "        transform=HourTransform(),\n",
    "    ),\n",
    "    PartitionField(\n",
    "        source_id=1,  # balloon_color field\n",
    "        field_id=1002,\n",
    "        name=\"by_balloon_color\",\n",
    "        transform=IdentityTransform(),\n",
    "    ),\n",
    "]\n",
    "color_performance_trends_pops_table = catalog.create_table(\n",
    "    identifier=color_performance_trends_pops_tbl_id,\n",
    "    schema=color_performance_trends_pops_schema,\n",
    "    partition_spec=PartitionSpec(*partition_fields),\n",
    "    sort_order=SortOrder(\n",
    "        SortField(\n",
    "            source_id=1,  # balloon_color field\n",
    "            transform=IdentityTransform(),\n",
    "            direction=SortDirection.ASC,\n",
    "            null_order=NullOrder.NULLS_LAST,\n",
    "        ),\n",
    "    ),\n",
    "    properties={\n",
    "        \"format-version\": \"2\",\n",
    "    },\n",
    ")\n",
    "print(f\"Table {color_performance_trends_pops_tbl_id}, {color_performance_trends_pops_table}\")"
   ]
  },
  {
   "cell_type": "markdown",
   "metadata": {},
   "source": [
    "## Query Tables\n"
   ]
  },
  {
   "cell_type": "markdown",
   "metadata": {},
   "source": [
    "#### `leaderboard` Table\n"
   ]
  },
  {
   "cell_type": "code",
   "execution_count": 81,
   "metadata": {
    "ExecuteTime": {
     "end_time": "2025-02-18T16:14:03.979952Z",
     "start_time": "2025-02-18T16:14:03.724228Z"
    }
   },
   "outputs": [
    {
     "name": "stdout",
     "output_type": "stream",
     "text": [
      "leaderboard(\n",
      "  1: player: required string,\n",
      "  2: total_score: required long,\n",
      "  3: bonus_hits: required long,\n",
      "  4: event_ts: required timestamptz\n",
      "),\n",
      "partition by: [datetime_day, by_player],\n",
      "sort order: [void(2) DESC NULLS LAST, void(3) DESC NULLS LAST],\n",
      "snapshot: Operation.OVERWRITE: id=19, parent_id=18, schema_id=0\n"
     ]
    }
   ],
   "source": [
    "try:\n",
    "    table = catalog.load_table(f\"{namespace}.leaderboard\")\n",
    "    print(table)\n",
    "except Exception as e:\n",
    "    print(e)"
   ]
  },
  {
   "cell_type": "code",
   "execution_count": 82,
   "metadata": {
    "ExecuteTime": {
     "end_time": "2025-02-18T16:14:10.913488Z",
     "start_time": "2025-02-18T16:14:10.872976Z"
    }
   },
   "outputs": [
    {
     "ename": "ValueError",
     "evalue": "PyIceberg does not yet support equality deletes: https://github.com/apache/iceberg/issues/6568",
     "output_type": "error",
     "traceback": [
      "\u001b[0;31m---------------------------------------------------------------------------\u001b[0m",
      "\u001b[0;31mValueError\u001b[0m                                Traceback (most recent call last)",
      "Cell \u001b[0;32mIn[82], line 1\u001b[0m\n\u001b[0;32m----> 1\u001b[0m df \u001b[38;5;241m=\u001b[39m \u001b[43mtable\u001b[49m\u001b[38;5;241;43m.\u001b[39;49m\u001b[43mscan\u001b[49m\u001b[43m(\u001b[49m\u001b[43m)\u001b[49m\u001b[38;5;241;43m.\u001b[39;49m\u001b[43mto_pandas\u001b[49m\u001b[43m(\u001b[49m\u001b[43m)\u001b[49m\n\u001b[1;32m      2\u001b[0m df\u001b[38;5;241m.\u001b[39mhead()\n",
      "File \u001b[0;32m~/mylabs/iceberg/balloon-popper-demo/.venv/lib/python3.12/site-packages/pyiceberg/table/__init__.py:1471\u001b[0m, in \u001b[0;36mDataScan.to_pandas\u001b[0;34m(self, **kwargs)\u001b[0m\n\u001b[1;32m   1465\u001b[0m \u001b[38;5;28;01mdef\u001b[39;00m\u001b[38;5;250m \u001b[39m\u001b[38;5;21mto_pandas\u001b[39m(\u001b[38;5;28mself\u001b[39m, \u001b[38;5;241m*\u001b[39m\u001b[38;5;241m*\u001b[39mkwargs: Any) \u001b[38;5;241m-\u001b[39m\u001b[38;5;241m>\u001b[39m pd\u001b[38;5;241m.\u001b[39mDataFrame:\n\u001b[1;32m   1466\u001b[0m \u001b[38;5;250m    \u001b[39m\u001b[38;5;124;03m\"\"\"Read a Pandas DataFrame eagerly from this Iceberg table.\u001b[39;00m\n\u001b[1;32m   1467\u001b[0m \n\u001b[1;32m   1468\u001b[0m \u001b[38;5;124;03m    Returns:\u001b[39;00m\n\u001b[1;32m   1469\u001b[0m \u001b[38;5;124;03m        pd.DataFrame: Materialized Pandas Dataframe from the Iceberg table\u001b[39;00m\n\u001b[1;32m   1470\u001b[0m \u001b[38;5;124;03m    \"\"\"\u001b[39;00m\n\u001b[0;32m-> 1471\u001b[0m     \u001b[38;5;28;01mreturn\u001b[39;00m \u001b[38;5;28;43mself\u001b[39;49m\u001b[38;5;241;43m.\u001b[39;49m\u001b[43mto_arrow\u001b[49m\u001b[43m(\u001b[49m\u001b[43m)\u001b[49m\u001b[38;5;241m.\u001b[39mto_pandas(\u001b[38;5;241m*\u001b[39m\u001b[38;5;241m*\u001b[39mkwargs)\n",
      "File \u001b[0;32m~/mylabs/iceberg/balloon-popper-demo/.venv/lib/python3.12/site-packages/pyiceberg/table/__init__.py:1438\u001b[0m, in \u001b[0;36mDataScan.to_arrow\u001b[0;34m(self)\u001b[0m\n\u001b[1;32m   1427\u001b[0m \u001b[38;5;250m\u001b[39m\u001b[38;5;124;03m\"\"\"Read an Arrow table eagerly from this DataScan.\u001b[39;00m\n\u001b[1;32m   1428\u001b[0m \n\u001b[1;32m   1429\u001b[0m \u001b[38;5;124;03mAll rows will be loaded into memory at once.\u001b[39;00m\n\u001b[0;32m   (...)\u001b[0m\n\u001b[1;32m   1432\u001b[0m \u001b[38;5;124;03m    pa.Table: Materialized Arrow Table from the Iceberg table's DataScan\u001b[39;00m\n\u001b[1;32m   1433\u001b[0m \u001b[38;5;124;03m\"\"\"\u001b[39;00m\n\u001b[1;32m   1434\u001b[0m \u001b[38;5;28;01mfrom\u001b[39;00m\u001b[38;5;250m \u001b[39m\u001b[38;5;21;01mpyiceberg\u001b[39;00m\u001b[38;5;21;01m.\u001b[39;00m\u001b[38;5;21;01mio\u001b[39;00m\u001b[38;5;21;01m.\u001b[39;00m\u001b[38;5;21;01mpyarrow\u001b[39;00m\u001b[38;5;250m \u001b[39m\u001b[38;5;28;01mimport\u001b[39;00m ArrowScan\n\u001b[1;32m   1436\u001b[0m \u001b[38;5;28;01mreturn\u001b[39;00m ArrowScan(\n\u001b[1;32m   1437\u001b[0m     \u001b[38;5;28mself\u001b[39m\u001b[38;5;241m.\u001b[39mtable_metadata, \u001b[38;5;28mself\u001b[39m\u001b[38;5;241m.\u001b[39mio, \u001b[38;5;28mself\u001b[39m\u001b[38;5;241m.\u001b[39mprojection(), \u001b[38;5;28mself\u001b[39m\u001b[38;5;241m.\u001b[39mrow_filter, \u001b[38;5;28mself\u001b[39m\u001b[38;5;241m.\u001b[39mcase_sensitive, \u001b[38;5;28mself\u001b[39m\u001b[38;5;241m.\u001b[39mlimit\n\u001b[0;32m-> 1438\u001b[0m )\u001b[38;5;241m.\u001b[39mto_table(\u001b[38;5;28;43mself\u001b[39;49m\u001b[38;5;241;43m.\u001b[39;49m\u001b[43mplan_files\u001b[49m\u001b[43m(\u001b[49m\u001b[43m)\u001b[49m)\n",
      "File \u001b[0;32m~/mylabs/iceberg/balloon-popper-demo/.venv/lib/python3.12/site-packages/pyiceberg/table/__init__.py:1411\u001b[0m, in \u001b[0;36mDataScan.plan_files\u001b[0;34m(self)\u001b[0m\n\u001b[1;32m   1409\u001b[0m     positional_delete_entries\u001b[38;5;241m.\u001b[39madd(manifest_entry)\n\u001b[1;32m   1410\u001b[0m \u001b[38;5;28;01melif\u001b[39;00m data_file\u001b[38;5;241m.\u001b[39mcontent \u001b[38;5;241m==\u001b[39m DataFileContent\u001b[38;5;241m.\u001b[39mEQUALITY_DELETES:\n\u001b[0;32m-> 1411\u001b[0m     \u001b[38;5;28;01mraise\u001b[39;00m \u001b[38;5;167;01mValueError\u001b[39;00m(\u001b[38;5;124m\"\u001b[39m\u001b[38;5;124mPyIceberg does not yet support equality deletes: https://github.com/apache/iceberg/issues/6568\u001b[39m\u001b[38;5;124m\"\u001b[39m)\n\u001b[1;32m   1412\u001b[0m \u001b[38;5;28;01melse\u001b[39;00m:\n\u001b[1;32m   1413\u001b[0m     \u001b[38;5;28;01mraise\u001b[39;00m \u001b[38;5;167;01mValueError\u001b[39;00m(\u001b[38;5;124mf\u001b[39m\u001b[38;5;124m\"\u001b[39m\u001b[38;5;124mUnknown DataFileContent (\u001b[39m\u001b[38;5;132;01m{\u001b[39;00mdata_file\u001b[38;5;241m.\u001b[39mcontent\u001b[38;5;132;01m}\u001b[39;00m\u001b[38;5;124m): \u001b[39m\u001b[38;5;132;01m{\u001b[39;00mmanifest_entry\u001b[38;5;132;01m}\u001b[39;00m\u001b[38;5;124m\"\u001b[39m)\n",
      "\u001b[0;31mValueError\u001b[0m: PyIceberg does not yet support equality deletes: https://github.com/apache/iceberg/issues/6568"
     ]
    }
   ],
   "source": [
    "df = table.scan().to_pandas()\n",
    "df.head()"
   ]
  },
  {
   "cell_type": "markdown",
   "metadata": {},
   "source": [
    "#### `balloon_color_stats` table\n"
   ]
  },
  {
   "cell_type": "code",
   "execution_count": null,
   "metadata": {},
   "outputs": [
    {
     "name": "stdout",
     "output_type": "stream",
     "text": [
      "balloon_color_stats(\n",
      "  1: player: required string,\n",
      "  2: balloon_color: required string,\n",
      "  3: points_by_color: required int,\n",
      "  4: bonus_hits: required int,\n",
      "  5: event_ts: required timestamptz\n",
      "),\n",
      "partition by: [datetime_day, by_balloon_color, by_player],\n",
      "sort order: [void(3) DESC NULLS LAST, void(4) DESC NULLS LAST],\n",
      "snapshot: null\n"
     ]
    }
   ],
   "source": [
    "try:\n",
    "    tbl_balloon_color_stats = catalog.load_table(f\"{namespace}.balloon_color_stats\")\n",
    "    print(tbl_balloon_color_stats)\n",
    "except Exception as e:\n",
    "    print(e)"
   ]
  },
  {
   "cell_type": "code",
   "execution_count": null,
   "metadata": {},
   "outputs": [],
   "source": [
    "_balloon_color_stats_df = tbl_balloon_color_stats.scan().to_pandas()\n",
    "print(_balloon_color_stats_df.head())"
   ]
  },
  {
   "cell_type": "markdown",
   "metadata": {},
   "source": [
    "### Time Series"
   ]
  },
  {
   "cell_type": "markdown",
   "metadata": {},
   "source": [
    "#### `realtime_scores` table\n"
   ]
  },
  {
   "cell_type": "code",
   "execution_count": null,
   "metadata": {},
   "outputs": [
    {
     "name": "stdout",
     "output_type": "stream",
     "text": [
      "realtime_scores(\n",
      "  1: player: required string,\n",
      "  2: total_score: required int,\n",
      "  3: window_start: required timestamptz,\n",
      "  4: window_end: required timestamptz\n",
      "),\n",
      "partition by: [by_window],\n",
      "sort order: [],\n",
      "snapshot: null\n"
     ]
    }
   ],
   "source": [
    "try:\n",
    "    tbl_realtime_scores = catalog.load_table(f\"{namespace}.realtime_scores\")\n",
    "    print(tbl_realtime_scores)\n",
    "except Exception as e:\n",
    "    print(e)"
   ]
  },
  {
   "cell_type": "code",
   "execution_count": null,
   "metadata": {},
   "outputs": [],
   "source": [
    "_realtime_scores_df = tbl_realtime_scores.scan().to_pandas()\n",
    "print(_realtime_scores_df.head())"
   ]
  },
  {
   "cell_type": "markdown",
   "metadata": {},
   "source": [
    "#### `balloon_colored_pops` table\n"
   ]
  },
  {
   "cell_type": "code",
   "execution_count": null,
   "metadata": {},
   "outputs": [
    {
     "name": "stdout",
     "output_type": "stream",
     "text": [
      "balloon_colored_pops(\n",
      "  1: player: required string,\n",
      "  2: balloon_color: required string,\n",
      "  3: balloon_pops: required int,\n",
      "  4: points_by_color: required int,\n",
      "  5: bonus_hits: required int,\n",
      "  6: window_start: required timestamptz,\n",
      "  7: window_end: required timestamptz\n",
      "),\n",
      "partition by: [by_window_start_hour, by_player],\n",
      "sort order: [2 ASC NULLS LAST],\n",
      "snapshot: null\n"
     ]
    }
   ],
   "source": [
    "try:\n",
    "    tbl_balloon_colored_pops = catalog.load_table(f\"{namespace}.balloon_colored_pops\")\n",
    "    print(tbl_balloon_colored_pops)\n",
    "except Exception as e:\n",
    "    print(e)"
   ]
  },
  {
   "cell_type": "code",
   "execution_count": null,
   "metadata": {},
   "outputs": [],
   "source": [
    "_balloon_colored_pops_df = tbl_balloon_colored_pops.scan().to_pandas()\n",
    "print(_balloon_colored_pops_df.head())"
   ]
  },
  {
   "cell_type": "markdown",
   "metadata": {},
   "source": [
    "#### `color_performance_trends` table\n"
   ]
  },
  {
   "cell_type": "code",
   "execution_count": null,
   "metadata": {},
   "outputs": [
    {
     "name": "stdout",
     "output_type": "stream",
     "text": [
      "color_performance_trends(\n",
      "  1: balloon_color: required string,\n",
      "  2: avg_score_per_pop: required double,\n",
      "  3: total_pops: required int,\n",
      "  4: window_start: required timestamptz,\n",
      "  5: window_end: required timestamptz\n",
      "),\n",
      "partition by: [by_window_start_hour, by_balloon_color],\n",
      "sort order: [1 ASC NULLS LAST],\n",
      "snapshot: null\n"
     ]
    }
   ],
   "source": [
    "try:\n",
    "    tbl_color_performance_trends = catalog.load_table(\n",
    "        f\"{namespace}.color_performance_trends\"\n",
    "    )\n",
    "    print(tbl_color_performance_trends)\n",
    "except Exception as e:\n",
    "    print(e)"
   ]
  },
  {
   "cell_type": "code",
   "execution_count": null,
   "metadata": {},
   "outputs": [],
   "source": [
    "_color_performance_trends_df = tbl_color_performance_trends.scan().to_pandas()\n",
    "print(_color_performance_trends_df.head())"
   ]
  },
  {
   "cell_type": "markdown",
   "metadata": {},
   "source": [
    "## Schema Evolution\n",
    "\n",
    "An Optional example of how to do schema evolution with the leaderboard table. Table definition with two columns `player` and `total_score`, but as part of my analytics I thought to add the `bonus_hits`. Now the sink from Rising will not work as the query returns 3 columns where as the target table has two columns.\n",
    "\n",
    "**Solution** is to evolve the schema to accomodate :)\n"
   ]
  },
  {
   "cell_type": "code",
   "execution_count": null,
   "metadata": {},
   "outputs": [],
   "source": [
    "from pyiceberg.types import LongType  # int64\n",
    "\n",
    "with table.update_schema() as update:\n",
    "    update.add_column(\n",
    "        \"bonus_hits\", LongType(), \"Total number of bonus hits popped by the player\"\n",
    "    )"
   ]
  },
  {
   "cell_type": "markdown",
   "metadata": {},
   "source": [
    "Now scanning the table and loading again will result in additional column but with Null values.\n"
   ]
  },
  {
   "cell_type": "code",
   "execution_count": null,
   "metadata": {},
   "outputs": [],
   "source": [
    "df = table.scan().to_pandas()\n",
    "print(df.head(10))"
   ]
  },
  {
   "cell_type": "markdown",
   "metadata": {},
   "source": [
    "Lets recreate the sink.\n"
   ]
  },
  {
   "cell_type": "code",
   "execution_count": null,
   "metadata": {},
   "outputs": [],
   "source": [
    "table.inspect.snapshots()"
   ]
  },
  {
   "cell_type": "code",
   "execution_count": null,
   "metadata": {},
   "outputs": [],
   "source": [
    "try:\n",
    "    table2 = catalog.load_table(f\"{namespace}.realtime_scores\")\n",
    "    print(table2)\n",
    "except Exception as e:\n",
    "    print(e)"
   ]
  },
  {
   "cell_type": "code",
   "execution_count": null,
   "metadata": {},
   "outputs": [],
   "source": [
    "df = table2.scan().to_pandas()\n",
    "print(df.head(10))"
   ]
  }
 ],
 "metadata": {
  "kernelspec": {
   "display_name": ".venv",
   "language": "python",
   "name": "python3"
  },
  "language_info": {
   "codemirror_mode": {
    "name": "ipython",
    "version": 3
   },
   "file_extension": ".py",
   "mimetype": "text/x-python",
   "name": "python",
   "nbconvert_exporter": "python",
   "pygments_lexer": "ipython3",
   "version": "3.12.9"
  }
 },
 "nbformat": 4,
 "nbformat_minor": 2
}
