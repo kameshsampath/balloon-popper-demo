{
 "cells": [
  {
   "cell_type": "markdown",
   "metadata": {},
   "source": [
    "# Verify Polaris Setup\n",
    "\n",
    "This notebook allows us to check if the Apache Polaris setup has been successful and we are able to work with the catalog e.g create namespaces, tables etc.,"
   ]
  },
  {
   "cell_type": "markdown",
   "metadata": {},
   "source": [
    "## Imports"
   ]
  },
  {
   "cell_type": "code",
   "execution_count": 2,
   "metadata": {
    "jupyter": {
     "is_executing": true
    }
   },
   "outputs": [],
   "source": [
    "import os\n",
    "import traceback\n",
    "from pathlib import Path\n",
    "\n",
    "import pyarrow as pa\n",
    "from pyiceberg.catalog.rest import RestCatalog\n",
    "from pyiceberg.exceptions import NamespaceAlreadyExistsError, TableAlreadyExistsError\n",
    "from pyiceberg.types import StringType"
   ]
  },
  {
   "cell_type": "markdown",
   "metadata": {},
   "source": [
    "## Retrieve Principal Credentials\n",
    "As part of the catalog setup script, the Principal(`super_user`) credentials are stored in  `$PROJECT_HOME/work/principal.txt`, let us retrieve it for further operations."
   ]
  },
  {
   "cell_type": "code",
   "execution_count": 3,
   "metadata": {},
   "outputs": [],
   "source": [
    "\n",
    "principal_creds = Path(os.getcwd()).parent.joinpath(\"work\", \"principal.txt\")\n",
    "with open(principal_creds, \"r\") as file:\n",
    "    realm, client_id, client_secret = file.readline().split(\",\")"
   ]
  },
  {
   "cell_type": "markdown",
   "metadata": {},
   "source": [
    "## Define Variables\n",
    "Let us define some variables for us across the notebook"
   ]
  },
  {
   "cell_type": "code",
   "execution_count": 4,
   "metadata": {
    "jupyter": {
     "is_executing": true
    }
   },
   "outputs": [],
   "source": [
    "# database \n",
    "namespace = \"balloon_pops\"\n",
    "# IMPORTANT!!! /api/catalog or get the prefix from your OpenCatalog instance\n",
    "CATALOG_URI = \"http://localhost:18181/api/catalog\"\n",
    "catalog_name = \"balloon-game\""
   ]
  },
  {
   "cell_type": "markdown",
   "metadata": {},
   "source": [
    "## Working with Catalog\n",
    "Let us retrieve the catalog `polardb` that we created earlier using the `catalog_setup.yml` script."
   ]
  },
  {
   "cell_type": "code",
   "execution_count": 5,
   "metadata": {},
   "outputs": [
    {
     "name": "stderr",
     "output_type": "stream",
     "text": [
      "/Users/ksampath/mylabs/iceberg/balloon-popper-demo/.venv/lib/python3.12/site-packages/pyiceberg/utils/deprecated.py:54: DeprecationWarning: Deprecated in 0.8.0, will be removed in 1.0.0. Iceberg REST client is missing the OAuth2 server URI configuration and defaults to http://localhost:18181/api/catalogoauth/tokens. This automatic fallback will be removed in a future Iceberg release.It is recommended to configure the OAuth2 endpoint using the 'oauth2-server-uri'property to be prepared. This warning will disappear if the OAuth2endpoint is explicitly configured. See https://github.com/apache/iceberg/issues/10537\n",
      "  _deprecation_warning(deprecation_notice(deprecated_in, removed_in, help_message))\n"
     ]
    }
   ],
   "source": [
    "catalog = RestCatalog(\n",
    "    name=catalog_name,\n",
    "    **{\n",
    "        \"uri\": CATALOG_URI,\n",
    "        \"credential\": f\"{client_id}:{client_secret}\",\n",
    "        \"header.content-type\": \"application/vnd.api+json\",\n",
    "        \"header.X-Iceberg-Access-Delegation\": \"vended-credentials\",\n",
    "        \"header.Polaris-Realm\": realm,\n",
    "        \"warehouse\": catalog_name,\n",
    "        \"scope\": \"PRINCIPAL_ROLE:ALL\",\n",
    "    },\n",
    ")"
   ]
  },
  {
   "cell_type": "markdown",
   "metadata": {},
   "source": [
    "### Create Namespace\n",
    "Create a new namespace named `demo_db`"
   ]
  },
  {
   "cell_type": "code",
   "execution_count": 6,
   "metadata": {},
   "outputs": [
    {
     "name": "stdout",
     "output_type": "stream",
     "text": [
      "Namespace 'balloon_pops' already exists\n"
     ]
    }
   ],
   "source": [
    "try:\n",
    "    catalog.create_namespace(namespace)\n",
    "except NamespaceAlreadyExistsError:\n",
    "    print(f\"Namespace '{namespace}' already exists\")\n",
    "except Exception as e:\n",
    "    print(e)"
   ]
  },
  {
   "cell_type": "markdown",
   "metadata": {},
   "source": [
    "### Load Table\n",
    "Let us load the created table"
   ]
  },
  {
   "cell_type": "code",
   "execution_count": 7,
   "metadata": {},
   "outputs": [
    {
     "name": "stdout",
     "output_type": "stream",
     "text": [
      "leaderboard(\n",
      "  1: player: optional string,\n",
      "  2: total_score: optional long,\n",
      "  3: bonus_hits: optional long (Total number of bonus hits popped by the player)\n",
      "),\n",
      "partition by: [],\n",
      "sort order: [],\n",
      "snapshot: Operation.APPEND: id=2, parent_id=1, schema_id=2\n"
     ]
    }
   ],
   "source": [
    "try:\n",
    "    table = catalog.load_table(f\"{namespace}.leaderboard\")\n",
    "    print(table)\n",
    "except Exception as e:\n",
    "    print(e)"
   ]
  },
  {
   "cell_type": "code",
   "execution_count": 8,
   "metadata": {},
   "outputs": [
    {
     "name": "stdout",
     "output_type": "stream",
     "text": [
      "           player  total_score  bonus_hits\n",
      "0  Bouncy Balloon         6190         NaN\n",
      "1      Wild Cloud         3380         NaN\n",
      "2   Lucky Phoenix         4520         NaN\n",
      "3     Mighty Star         3100         NaN\n",
      "4   Gentle Dragon         3595         NaN\n",
      "5      Swift Star         2785         NaN\n",
      "6   Cosmic Dragon         4275         NaN\n",
      "7     Wild Spirit         4205         NaN\n",
      "8      Lucky Star        13240         NaN\n",
      "9  Bouncy Phoenix        10140         NaN\n"
     ]
    }
   ],
   "source": [
    "df = table.scan().to_pandas()\n",
    "print(df.head(10))"
   ]
  },
  {
   "cell_type": "markdown",
   "metadata": {},
   "source": [
    "## Schema Evolution\n",
    "\n",
    "An Optional example of how to do schema evolution with the leaderboard table. Table definition with two columns `player` and `total_score`, but as part of my analytics I thought to add the `bonus_hits`. Now the sink from Rising will not work as the query returns 3 columns where as the target table has two columns. \n",
    "\n",
    "**Solution** is to evolve the schema to accomodate :)"
   ]
  },
  {
   "cell_type": "code",
   "execution_count": null,
   "metadata": {},
   "outputs": [],
   "source": [
    "from pyiceberg.types import LongType # int64\n",
    "with table.update_schema() as update:\n",
    "    update.add_column(\"bonus_hits\", LongType(), \"Total number of bonus hits popped by the player\")"
   ]
  },
  {
   "cell_type": "markdown",
   "metadata": {},
   "source": [
    "Now scanning the table and loading again will result in  additional column but with Null values."
   ]
  },
  {
   "cell_type": "code",
   "execution_count": 16,
   "metadata": {},
   "outputs": [
    {
     "name": "stdout",
     "output_type": "stream",
     "text": [
      "           player  total_score  bonus_hits\n",
      "0  Bouncy Balloon         6190         NaN\n",
      "1      Wild Cloud         3380         NaN\n",
      "2   Lucky Phoenix         4520         NaN\n",
      "3     Mighty Star         3100         NaN\n",
      "4   Gentle Dragon         3595         NaN\n",
      "5      Swift Star         2785         NaN\n",
      "6   Cosmic Dragon         4275         NaN\n",
      "7     Wild Spirit         4205         NaN\n",
      "8      Lucky Star        13240         NaN\n",
      "9  Bouncy Phoenix        10140         NaN\n"
     ]
    }
   ],
   "source": [
    "df = table.scan().to_pandas()\n",
    "print(df.head(10))"
   ]
  },
  {
   "cell_type": "markdown",
   "metadata": {},
   "source": [
    "Lets recreate the sink."
   ]
  },
  {
   "cell_type": "code",
   "execution_count": 24,
   "metadata": {},
   "outputs": [
    {
     "name": "stderr",
     "output_type": "stream",
     "text": [
      "/Users/ksampath/mylabs/iceberg/balloon-popper-demo/.venv/lib/python3.12/site-packages/pyiceberg/table/inspect.py:79: DeprecationWarning: datetime.datetime.utcfromtimestamp() is deprecated and scheduled for removal in a future version. Use timezone-aware objects to represent datetimes in UTC: datetime.datetime.fromtimestamp(timestamp, datetime.UTC).\n",
      "  \"committed_at\": datetime.utcfromtimestamp(snapshot.timestamp_ms / 1000.0),\n"
     ]
    },
    {
     "data": {
      "text/plain": [
       "pyarrow.Table\n",
       "committed_at: timestamp[ms] not null\n",
       "snapshot_id: int64 not null\n",
       "parent_id: int64\n",
       "operation: string\n",
       "manifest_list: string not null\n",
       "summary: map<string, string>\n",
       "  child 0, entries: struct<key: string not null, value: string> not null\n",
       "      child 0, key: string not null\n",
       "      child 1, value: string\n",
       "----\n",
       "committed_at: [[2025-02-16 15:42:46.404,2025-02-16 16:28:13.910]]\n",
       "snapshot_id: [[1,2]]\n",
       "parent_id: [[null,1]]\n",
       "operation: [[\"append\",\"append\"]]\n",
       "manifest_list: [[\"s3://balloon-game/balloon_pops/leaderboard/metadata/snap-1-1-9fd29ce6-fa20-4dde-949c-7e8643fbdbf7.avro\",\"s3://balloon-game/balloon_pops/leaderboard/metadata/snap-2-1-3b3b2a39-101b-4dd8-a609-2790c062d733.avro\"]]\n",
       "summary: [[keys:[\"added-delete-files\",\"added-data-files\",\"added-position-delete-files\",\"total-delete-files\",\"total-records\",...,\"added-records\",\"added-position-deletes\",\"added-equality-delete-files\",\"total-position-deletes\",\"total-files-size\"]values:[\"0\",\"4\",\"0\",\"0\",\"18\",...,\"18\",\"0\",\"0\",\"0\",\"4822\"],keys:[\"total-records\",\"total-position-deletes\",\"total-equality-deletes\",\"total-files-size\",\"added-records\",...,\"added-equality-deletes\",\"added-position-deletes\",\"added-equality-delete-files\",\"added-files-size\",\"added-data-files\"]values:[\"36\",\"0\",\"0\",\"11525\",\"18\",...,\"0\",\"0\",\"0\",\"6703\",\"4\"]]]"
      ]
     },
     "execution_count": 24,
     "metadata": {},
     "output_type": "execute_result"
    }
   ],
   "source": [
    "table.inspect.snapshots()"
   ]
  },
  {
   "cell_type": "code",
   "execution_count": 10,
   "metadata": {},
   "outputs": [
    {
     "name": "stdout",
     "output_type": "stream",
     "text": [
      "realtime_scores(\n",
      "  1: player: optional string,\n",
      "  2: total_score: optional long,\n",
      "  3: window_start: optional timestamptz,\n",
      "  4: window_end: optional timestamptz\n",
      "),\n",
      "partition by: [],\n",
      "sort order: [],\n",
      "snapshot: Operation.APPEND: id=1, schema_id=0\n"
     ]
    }
   ],
   "source": [
    "try:\n",
    "    table2 = catalog.load_table(f\"{namespace}.realtime_scores\")\n",
    "    print(table2)\n",
    "except Exception as e:\n",
    "    print(e)"
   ]
  },
  {
   "cell_type": "code",
   "execution_count": 11,
   "metadata": {},
   "outputs": [
    {
     "name": "stdout",
     "output_type": "stream",
     "text": [
      "           player  total_score              window_start  \\\n",
      "0   Cosmic Dragon          125 2025-02-16 15:08:45+00:00   \n",
      "1     Wild Spirit          120 2025-02-16 15:04:45+00:00   \n",
      "2  Bouncy Balloon          120 2025-02-16 14:37:30+00:00   \n",
      "3   Lucky Phoenix          150 2025-02-16 14:33:15+00:00   \n",
      "4      Lucky Star          340 2025-02-16 14:35:15+00:00   \n",
      "5      Lucky Wind           80 2025-02-16 14:36:00+00:00   \n",
      "6   Lucky Balloon           70 2025-02-16 14:36:45+00:00   \n",
      "7   Swift Balloon          220 2025-02-16 14:41:30+00:00   \n",
      "8     Bouncy Star          185 2025-02-16 15:04:00+00:00   \n",
      "9      Lucky Wind          110 2025-02-16 14:36:30+00:00   \n",
      "\n",
      "                 window_end  \n",
      "0 2025-02-16 15:09:00+00:00  \n",
      "1 2025-02-16 15:05:00+00:00  \n",
      "2 2025-02-16 14:37:45+00:00  \n",
      "3 2025-02-16 14:33:30+00:00  \n",
      "4 2025-02-16 14:35:30+00:00  \n",
      "5 2025-02-16 14:36:15+00:00  \n",
      "6 2025-02-16 14:37:00+00:00  \n",
      "7 2025-02-16 14:41:45+00:00  \n",
      "8 2025-02-16 15:04:15+00:00  \n",
      "9 2025-02-16 14:36:45+00:00  \n"
     ]
    }
   ],
   "source": [
    "df = table2.scan().to_pandas()\n",
    "print(df.head(10))"
   ]
  }
 ],
 "metadata": {
  "kernelspec": {
   "display_name": ".venv",
   "language": "python",
   "name": "python3"
  },
  "language_info": {
   "codemirror_mode": {
    "name": "ipython",
    "version": 3
   },
   "file_extension": ".py",
   "mimetype": "text/x-python",
   "name": "python",
   "nbconvert_exporter": "python",
   "pygments_lexer": "ipython3",
   "version": "3.12.8"
  }
 },
 "nbformat": 4,
 "nbformat_minor": 2
}
