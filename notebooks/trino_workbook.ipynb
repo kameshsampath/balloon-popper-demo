{
 "cells": [
  {
   "metadata": {},
   "cell_type": "code",
   "outputs": [],
   "execution_count": null,
   "source": "",
   "id": "900d627187896d5c"
  },
  {
   "metadata": {
    "ExecuteTime": {
     "end_time": "2025-02-27T15:36:10.653227Z",
     "start_time": "2025-02-27T15:36:10.610015Z"
    }
   },
   "cell_type": "code",
   "source": "import duckdb",
   "id": "e7defb53d01a14fb",
   "outputs": [],
   "execution_count": 1
  },
  {
   "metadata": {},
   "cell_type": "code",
   "outputs": [],
   "execution_count": null,
   "source": "",
   "id": "2dd7e152258c9454"
  }
 ],
 "metadata": {
  "kernelspec": {
   "name": "python3",
   "language": "python",
   "display_name": "Python 3 (ipykernel)"
  }
 },
 "nbformat": 5,
 "nbformat_minor": 9
}
